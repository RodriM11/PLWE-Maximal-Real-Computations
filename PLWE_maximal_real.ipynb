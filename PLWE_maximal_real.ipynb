{
 "cells": [
  {
   "cell_type": "markdown",
   "id": "92890bc4-55a9-4a70-a06a-e7fdd28c4707",
   "metadata": {},
   "source": [
    "# Python Notebook for calculations likelihood root-based attacks against maximal real extensions of the forn $n = 2^r \\cdot p^s$"
   ]
  },
  {
   "cell_type": "markdown",
   "id": "ff6a8062-b94b-48a7-897d-0f0a84bd7433",
   "metadata": {},
   "source": [
    "# Dependencies"
   ]
  },
  {
   "cell_type": "code",
   "execution_count": null,
   "id": "6f7257fd-8ae7-4ed3-a057-ca81824d02c8",
   "metadata": {},
   "outputs": [],
   "source": [
    "# Initial dependencies to be used\n",
    "!pip install galois, sympy, joblib, math, numpy"
   ]
  },
  {
   "cell_type": "code",
   "execution_count": 38,
   "id": "e636f43a-a701-44e0-b8d8-0eed9115e3da",
   "metadata": {},
   "outputs": [],
   "source": [
    "# work with number fields, primes\n",
    "import galois, sympy\n",
    "# parallelized executions\n",
    "from joblib import Parallel, delayed\n",
    "# useful math functions for root-based calculations\n",
    "from math import erf, ceil, sqrt, floor\n",
    "# Chebychev factorization\n",
    "import numpy as np"
   ]
  },
  {
   "cell_type": "markdown",
   "id": "050ec9e9-fe04-4367-9043-5c5c664910e8",
   "metadata": {},
   "source": [
    "# Initial Definitions and Auxiliary Processes"
   ]
  },
  {
   "cell_type": "markdown",
   "id": "cc7405b9-abdd-479f-98c2-d80ace05cbec",
   "metadata": {},
   "source": [
    "To analyze the case of roots over small finite extensions of $\\mathbb{F}_q$, and in an attempt to bring down the computational cost of finding roots, we will in this section get the factors of the maximal real polynomial"
   ]
  },
  {
   "cell_type": "code",
   "execution_count": 60,
   "id": "2890c3e4-6e19-4567-af6e-2617cf5c2581",
   "metadata": {},
   "outputs": [
    {
     "name": "stdout",
     "output_type": "stream",
     "text": [
      "1.0 + 1.0 T_1(x) + 1.0 T_2(x)\n"
     ]
    }
   ],
   "source": [
    "#Chebychev for the sum of T_i(x) terms\n",
    "cheb = np.polynomial.chebyshev.Chebyshev([1,1,1])\n",
    "print(cheb)"
   ]
  },
  {
   "cell_type": "markdown",
   "id": "92517522-610c-4243-ba2e-a5bdc6d2c6ab",
   "metadata": {},
   "source": [
    "The idea is, first get the terms in which a $V_i(x) = 2 \\cdot T_i(x/2)$ is. Then, calculate the Chebychev coefficients there. And, lastly, interate over each to add the term $\\frac{1}{2}^i$."
   ]
  },
  {
   "cell_type": "markdown",
   "id": "63904724-539a-40c1-9a38-853022c9d382",
   "metadata": {},
   "source": [
    "Now, we define the minimal polynomials of the maximal real extensions in the cases $n = p^s$ and $n = 2^r \\cdot p^s$"
   ]
  },
  {
   "cell_type": "code",
   "execution_count": 95,
   "id": "d6675bab-78f6-484a-a779-412306ce5acc",
   "metadata": {},
   "outputs": [],
   "source": [
    "def minimal_polynomial_case_ps(p, s, q):\n",
    "    F = galois.GF(q)\n",
    "    k = (p-1)//2\n",
    "    term = (p**(s-1))\n",
    "    terms = [0 for x in range(0, k*term + 1)]\n",
    "    terms[0] = 1\n",
    "    for i in range(1, k+1):\n",
    "        coeff = i*term\n",
    "        terms[coeff] = 2\n",
    "    \n",
    "    #Get the Chebychev coeffs\n",
    "    cheb = np.polynomial.chebyshev.Chebyshev(terms)\n",
    "    coef = [F(int(x % q)) for x in np.polynomial.chebyshev.cheb2poly(cheb.coef)]\n",
    "    coeffs = []\n",
    "    for i in range(len(coef)):\n",
    "        coeffs.append(coef[i] / (F(2)**i))\n",
    "    return galois.Poly(coeffs[::-1], field=F)\n",
    "\n",
    "def minimal_polynomial_case_psr(p, s, r, q):\n",
    "    #Case r = 0 represents n = p^s\n",
    "    if r == 0:\n",
    "        return minimal_polynomial_case_ps(p, s, q)\n",
    "    F = galois.GF(q)\n",
    "    k = (p-1)//2\n",
    "    term = (p**(s-1)) * (2**(r-1))\n",
    "    terms = [0 for x in range(0, k*term + 1)]\n",
    "    terms[0] = 1*((-1)**k)\n",
    "    for i in range(1, k+1):\n",
    "        coeff = i*term\n",
    "        terms[coeff] = 2*((-1)**(k-i))\n",
    "        \n",
    "    #Get the Chebychev coeffs\n",
    "    cheb = np.polynomial.chebyshev.Chebyshev(terms)\n",
    "    coef = [F(int(x % q)) for x in np.polynomial.chebyshev.cheb2poly(cheb.coef)]\n",
    "    coeffs = []\n",
    "    for i in range(len(coef)):\n",
    "        coeffs.append(coef[i] / (F(2)**i))\n",
    "    return galois.Poly(coeffs[::-1], field=F)"
   ]
  },
  {
   "cell_type": "code",
   "execution_count": 103,
   "id": "8c2e9981-892e-40e3-b984-2fc6682a5a43",
   "metadata": {},
   "outputs": [
    {
     "name": "stdout",
     "output_type": "stream",
     "text": [
      "The result of the minimal polynomial x^8 + 6x^6 + 5x^4 + 2x^2 + 1 at x = 1 for p = 5, s = 1 and r = 3 in GF(7) is 1\n",
      "The result of the minimal polynomial x^2 + x + 6 at x = 1 for p = 5, s = 1 and r = 0 in GF(7) is 1\n"
     ]
    }
   ],
   "source": [
    "p = 5\n",
    "s = 1\n",
    "r = 3\n",
    "q = 7\n",
    "\n",
    "x = 1\n",
    "\n",
    "pol = minimal_polynomial_case_psr(p, s, r, q)\n",
    "print(f'The result of the minimal polynomial {pol} at x = {x} for p = {p}, s = {s} and r = {r} in GF({q}) is {pol(x)}')\n",
    "\n",
    "r = 0\n",
    "pol = minimal_polynomial_case_psr(p, s, r, q)\n",
    "print(f'The result of the minimal polynomial {pol} at x = {x} for p = {p}, s = {s} and r = {r} in GF({q}) is {pol(x)}')"
   ]
  },
  {
   "cell_type": "code",
   "execution_count": null,
   "id": "8ee93084-3894-49a2-9090-b8db7f3b6fa5",
   "metadata": {},
   "outputs": [],
   "source": [
    "for x in pol.roots():\n",
    "    print(f'Root x = {int(x)} with multiplicative order r = {x.multiplicative_order()}')"
   ]
  },
  {
   "cell_type": "code",
   "execution_count": null,
   "id": "36235e50-459c-48d0-a212-3e2d91170c1b",
   "metadata": {},
   "outputs": [],
   "source": [
    "factors, multiplicities = pol.factors()\n",
    "\n",
    "# Loop through the factors and their corresponding multiplicities\n",
    "for factor, multiplicity in zip(factors, multiplicities):\n",
    "    print(f\"Factor {factor} of degree {factor.degree} with multiplicity {multiplicity}\")"
   ]
  },
  {
   "cell_type": "markdown",
   "id": "175f7441-3dbe-4a63-8551-ff13644043ab",
   "metadata": {},
   "source": [
    "Now, we define the calculations for each of the root-based attacks that will be studied (over the base field $\\mathbb{F}_q$ and finite small extensions of it):\n",
    "\n",
    "* Attack on the Small Set of Error Values\n",
    "* Attack on the Small Error Values\n",
    "* Attack on the Small Error Values (Fully Probabilistic, Generalized)"
   ]
  },
  {
   "cell_type": "code",
   "execution_count": null,
   "id": "8b4ba57f-26b2-4b5e-a414-ed2c6ec464d3",
   "metadata": {},
   "outputs": [],
   "source": [
    "#Small Set of Error Values Attack ratio\n",
    "\n",
    "def likelihood_small_set(sigma, n, r, q):\n",
    "    block = ((4*n*sigma) / r)\n",
    "    # provision to handle 'extremely big' numbers\n",
    "    if (block >= 1.4 and r >= 128) or n < r:\n",
    "        return 1\n",
    "    card_set = block**r\n",
    "    return card_set/q"
   ]
  },
  {
   "cell_type": "code",
   "execution_count": null,
   "id": "f580dea5-6890-419c-851f-e854834b17b2",
   "metadata": {},
   "outputs": [],
   "source": [
    "# Get Small Set of Error Values change of each instance\n",
    "\n",
    "def process_outer_task_small_set_attack_chances(p, s, r, q, sigma, order):\n",
    "    n = (2**(r-2))*(p**(s-1))*(p-1)\n",
    "    return likelihood_small_set(sigma, n, order, q) < 1\n",
    "\n",
    "# Main parallelized execution\n",
    "def parallelized_task_small_set_attack_chances(list_total_info, sigma):\n",
    "    list_chances_ssa = []\n",
    "    results = Parallel(n_jobs=-1)(delayed(process_outer_task_small_set_attack_chances)(p, s, r, q, sigma, order)\n",
    "                                  for (p, s, r, q, alpha, order) in list_total_info)\n",
    "    for result in results:\n",
    "        list_chances_ssa.append(result)\n",
    "    return list_chances_ssa\n",
    "\n",
    "def process_outer_task_small_set_attack_chances_k_ideals(p, s, r, q, sigma, order, k):\n",
    "    if order == float('inf'):\n",
    "        #not a real k-ideal factor\n",
    "        return False\n",
    "    # Account for k-division due to the trace\n",
    "    n = (2**(r-2))*(p**(s-1))*(p-1)//k\n",
    "    return likelihood_small_set(sigma, n, order, q) < 1\n",
    "\n",
    "# Main parallelized execution\n",
    "def parallelized_task_small_set_attack_chances_k_ideals(list_total_info, sigma):\n",
    "    list_chances_ssa = []\n",
    "    results = Parallel(n_jobs=-1)(delayed(process_outer_task_small_set_attack_chances_k_ideals)(p, s, r, q, sigma, order, k)\n",
    "                                  for (p, s, r, q, value, order, k) in list_total_info)\n",
    "    for result in results:\n",
    "        list_chances_ssa.append(result)\n",
    "    return list_chances_ssa\n",
    "\n",
    "def small_err_set_attack_ratio(list_chances_ssa):\n",
    "    return len([p for p in list_chances_ssa if p == True])/len(list_chances_ssa)"
   ]
  },
  {
   "cell_type": "code",
   "execution_count": null,
   "id": "f2c70c2b-d7bd-4976-9b73-cd599d9caaf9",
   "metadata": {},
   "outputs": [],
   "source": [
    "#Small Error Values Attack (with Fully Probabilistic Approach)\n",
    "\n",
    "#Definitions of each distribution case\n",
    "def case_distribution_1(n, sigma):\n",
    "  quot = 1\n",
    "  factor = (sigma**2)*n\n",
    "  return sqrt(factor*quot)\n",
    "\n",
    "def case_distribution_2(n, sigma, root, ord):\n",
    "  quot = ((root**(2*ord)) - 1)//((root**2) - 1)\n",
    "  factor = (n/ord)*(sigma**2)\n",
    "  return sqrt(factor*quot)\n",
    "\n",
    "def case_distribution_3(n, sigma, root):\n",
    "  quot = ((root**(2*n)) - 1)//((root**2) - 1)\n",
    "  factor = sigma**2\n",
    "  return decimal.Decimal(factor*quot).sqrt()\n",
    "\n",
    "# Auxiliary function to compute the integral that reigns over the success probability of the fully probabilistic approach\n",
    "def A(r):\n",
    "  return (erf(r/4))/2\n",
    "\n",
    "def N(r):\n",
    "  return (sqrt(2)/r) - (1/2)\n",
    "\n",
    "def Bterm(k, r):\n",
    "  return (erf(r*(k + (5/4))) - erf(r*(k + (3/4))))/2\n",
    "\n",
    "def B(r):\n",
    "  bound = N(r)\n",
    "  value = 0.0\n",
    "  for k in range(floor(bound)):\n",
    "      value += Bterm(k , r)\n",
    "  if bound > 0:\n",
    "    correction_bound = bound - floor(bound)\n",
    "    if correction_bound <= 1/4:\n",
    "      correction_rate = 0\n",
    "    elif correction_bound < 3/4:\n",
    "      correction_rate = (erf(sqrt(2)) - erf(r*(floor(bound) + (3/4))))/2\n",
    "    else:\n",
    "      correction_rate = (erf(r*(floor(bound) + (5/4))) - erf(r*(floor(bound) + (3/4))))/2\n",
    "    value += correction_rate\n",
    "  return value\n",
    "\n",
    "def I(r):\n",
    "  return (A(r) + B(r))/(erf(sqrt(2))/2)\n",
    "\n",
    "def Icota(r):\n",
    "  return I(r) - 1/2"
   ]
  },
  {
   "cell_type": "code",
   "execution_count": null,
   "id": "a52490c5-d978-4952-95c4-7ce137191b53",
   "metadata": {},
   "outputs": [],
   "source": [
    "# Get Small Error Values change of each instance\n",
    "def likelihood_small_err_values_chances(p, s, r, q, sigma, alpha, order):\n",
    "    n = (2**(r-2))*(p**(s-1))*(p-1)\n",
    "    if order == 1:\n",
    "        sigma_image = case_distribution_1(n, sigma)\n",
    "    elif order < 5:\n",
    "        sigma_image = case_distribution_2(n, sigma, alpha, order)\n",
    "    else:\n",
    "        sigma_image = float(case_distribution_3(n, sigma, alpha))\n",
    "    if (q/4 < 2*sigma_image):\n",
    "        ratio = q/(sqrt(2) * sigma_image)\n",
    "        if ratio == 0:\n",
    "            return 0\n",
    "        else:\n",
    "            return Icota(ratio)\n",
    "    else:\n",
    "        return 1\n",
    "\n",
    "# Main parallelized execution\n",
    "def parallelized_task_small_err_values_chances(list_total_info, sigma):\n",
    "    list_chances_sva = []\n",
    "    results = Parallel(n_jobs=-1)(delayed(likelihood_small_err_values_chances)(p, s, r, q, sigma, alpha, order)\n",
    "                                  for (p, s, r, q, alpha, order) in list_total_info)\n",
    "    for result in results:\n",
    "        list_chances_sva.append(result)\n",
    "    return list_chances_sva\n",
    "\n",
    "def likelihood_small_err_values_chances_k_ideals(p, s, r, q, sigma, value, order, k):\n",
    "    if value == None:\n",
    "        # not a real k-ideal factor\n",
    "        return 0\n",
    "    n = (2**(r-2))*(p**(s-1))*(p-1)//k\n",
    "    if n < order:\n",
    "        # n is supposed to be divisible by r (at least smaller), otherwise the computation does not make sense\n",
    "        return 0\n",
    "    if order == 1:\n",
    "        sigma_image = case_distribution_1(n, sigma)\n",
    "    elif order < 5:\n",
    "        sigma_image = case_distribution_2(n, sigma, alpha, order)\n",
    "    else:\n",
    "        sigma_image = float(case_distribution_3(n, sigma, alpha))\n",
    "    if (q/4 < 2*sigma_image):\n",
    "        ratio = q/(sqrt(2) * sigma_image)\n",
    "        if ratio == 0:\n",
    "            return 0\n",
    "        else:\n",
    "            return Icota(ratio)\n",
    "    else:\n",
    "        return 1\n",
    "\n",
    "# Main parallelized execution\n",
    "def parallelized_task_small_err_values_chances_k_ideals(list_total_info, sigma):\n",
    "    list_chances_sva = []\n",
    "    results = Parallel(n_jobs=-1)(delayed(likelihood_small_err_values_chances_k_ideals)(p, s, r, q, sigma, value, order, k)\n",
    "                                  for (p, s, r, q, value, order, k) in list_total_info)\n",
    "    for result in results:\n",
    "        list_chances_sva.append(result)\n",
    "    return list_chances_sva\n",
    "\n",
    "def small_err_value_ratio(list_chances_sva):\n",
    "    return len([p for p in list_chances_sva if p > 0])/len(list_chances_sva)"
   ]
  },
  {
   "cell_type": "markdown",
   "id": "9a79d071-b26a-4e1b-a660-5895804e7d99",
   "metadata": {},
   "source": [
    "# Techniques for study over $\\mathbb{F}_q$ (i.e, using roots directly)"
   ]
  },
  {
   "cell_type": "markdown",
   "id": "6493a4b2-cde3-4a78-bb71-aa721c6ae922",
   "metadata": {},
   "source": [
    "Next, we introduce the processes we will run in order to get the desired data:\n",
    "\n",
    "* Number of instances with roots of small order (i.e. order < 5)\n",
    "* Root of minimal order of each instance"
   ]
  },
  {
   "cell_type": "code",
   "execution_count": null,
   "id": "1769483e-9e50-49e9-bc2c-3c7ec6ac5555",
   "metadata": {},
   "outputs": [],
   "source": [
    "# Number of small order roots in a certain instance\n",
    "\n",
    "def process_outer_task_small_roots(p, s, r, q):\n",
    "    list_info = []\n",
    "\n",
    "    pol = minimal_polynomial_case_psr(p, s, r, q)\n",
    "    for x in pol.roots():\n",
    "        order = x.multiplicative_order()\n",
    "        if order < 5:\n",
    "            list_info.append((p, s, r, q, int(x), order))\n",
    "    return list_info\n",
    "\n",
    "def parallelized_task_small_roots(list_triples, list_q_values):\n",
    "    list_total_info = []\n",
    "    results = Parallel(n_jobs=-1)(delayed(process_outer_task_small_roots)(p, s, r, q)\n",
    "                                  for (p, s, r) in list_triples\n",
    "                                  for q in list_q_values)\n",
    "    for result in results:\n",
    "        list_total_info.extend(result)\n",
    "    return list_total_info"
   ]
  },
  {
   "cell_type": "code",
   "execution_count": null,
   "id": "dd3d514d-d0e8-470d-87e2-553b713b0fbe",
   "metadata": {},
   "outputs": [],
   "source": [
    "# Smallest-order root of each instance\n",
    "\n",
    "def process_outer_task_smallest_root(p, s, r, q):\n",
    "    list_info = []\n",
    "    min_order = float('inf')\n",
    "    best_root = None\n",
    "    \n",
    "    pol = minimal_polynomial_case_psr(p, s, r, q)\n",
    "    for x in pol.roots():\n",
    "        order = x.multiplicative_order()\n",
    "        if order < min_order:\n",
    "            best_root = int(x)\n",
    "            min_order = order\n",
    "    list_info.append((p, s, r, q, best_root, min_order))\n",
    "    return list_info\n",
    "\n",
    "# Main parallelized execution\n",
    "def parallelized_task_smallest_root(list_triples, list_q_values):\n",
    "    list_total_info = []\n",
    "    results = Parallel(n_jobs=-1)(delayed(process_outer_task_smallest_root)(p, s, r, q)\n",
    "                                  for (p, s, r) in list_triples\n",
    "                                  for q in list_q_values)\n",
    "    for result in results:\n",
    "        list_total_info.extend(result)\n",
    "    return list_total_info"
   ]
  },
  {
   "cell_type": "markdown",
   "id": "e2a0cb53-d2b0-441c-9c99-1708c1a6a191",
   "metadata": {},
   "source": [
    "# Techinques for study over finite extensions of $\\mathbb{F}_q$ (of degree up to $k = 4$)"
   ]
  },
  {
   "cell_type": "markdown",
   "id": "e8c1cd05-ad1e-4e10-92ac-a8f8dc8f3644",
   "metadata": {},
   "source": [
    "Here, we won't be interested in roots of the polynomials but, based upon the works of Blanco et al., on $k$-ideal factors, i.e. factors of the form $x^k + a$, were $a \\in \\mathbb{F}_q$ and of small order"
   ]
  },
  {
   "cell_type": "markdown",
   "id": "f92efaa4-ee29-435b-99d6-487026c18e0c",
   "metadata": {},
   "source": [
    "Next, we introduce the processes we will run in order to get the desired data:\n",
    "\n",
    "* Number of instances with k-ideal factors with independent element of small order (i.e. order < 5)\n",
    "* k-ideal factor of minimal order of each instance"
   ]
  },
  {
   "cell_type": "code",
   "execution_count": 114,
   "id": "acd7d19e-d083-4a97-aa22-eb3f9bb8d945",
   "metadata": {},
   "outputs": [],
   "source": [
    "# Number of k-ideal factors in a certain instance\n",
    "\n",
    "def process_outer_task_small_k_ideal_factors(p, s, r, q):\n",
    "    list_info = []\n",
    "\n",
    "    pol = minimal_polynomial_case_psr(p, s, r, q)\n",
    "    factors, multiplicities = pol.factors()\n",
    "    for g in factors:\n",
    "        degree = g.degree\n",
    "        for k in range(2, 5):\n",
    "            if degree == k:\n",
    "                non_zero_degrees = [int(x) for x in g.nonzero_degrees]\n",
    "                if len(non_zero_degrees) == 2 and non_zero_degrees[1] == 0:\n",
    "                    non_zero_coeffs = [x for x in g.nonzero_coeffs]\n",
    "                    order_independent_term = non_zero_coeffs[1].multiplicative_order()\n",
    "                    if order_independent_term < 5:\n",
    "                        list_info.append((p, s, r, q, int(non_zero_coeffs[1]), order_independent_term, k))\n",
    "    return list_info\n",
    "\n",
    "def parallelized_task_small_k_ideal_factors(list_triples, list_q_values):\n",
    "    list_total_info = []\n",
    "    results = Parallel(n_jobs=-1)(delayed(process_outer_task_small_k_ideal_factors)(p, s, r, q)\n",
    "                                  for (p, s, r) in list_triples\n",
    "                                  for q in list_q_values)\n",
    "    for result in results:\n",
    "        list_total_info.extend(result)\n",
    "    return list_total_info"
   ]
  },
  {
   "cell_type": "code",
   "execution_count": 115,
   "id": "b6b35b23-343d-477b-8504-cf728a8268b4",
   "metadata": {},
   "outputs": [],
   "source": [
    "# Number of k-ideal factors in a certain instance\n",
    "\n",
    "def process_outer_task_smallest_k_ideal_factors(p, s, r, q):\n",
    "    list_info = []\n",
    "\n",
    "    pol = minimal_polynomial_case_psr(p, s, r, q)\n",
    "    factors, multiplicities = pol.factors()\n",
    "    for k in range(2, 5):\n",
    "        min_order = float('inf')\n",
    "        best_term = None\n",
    "        for g in factors:\n",
    "            if g.degree == k:\n",
    "                non_zero_degrees = [int(x) for x in g.nonzero_degrees]\n",
    "                if len(non_zero_degrees) == 2 and non_zero_degrees[1] == 0:\n",
    "                    non_zero_coeffs = [x for x in g.nonzero_coeffs]\n",
    "                    order_independent_term = (-non_zero_coeffs[1]).multiplicative_order()\n",
    "                    if order_independent_term < min_order:\n",
    "                        min_order = order_independent_term\n",
    "                        best_term = int(non_zero_coeffs[1])\n",
    "                        \n",
    "        list_info.append((p, s, r, q, best_term, min_order, k))\n",
    "    return list_info\n",
    "\n",
    "def parallelized_task_smallest_k_ideal_factors(list_triples, list_q_values):\n",
    "    list_total_info = []\n",
    "    results = Parallel(n_jobs=-1)(delayed(process_outer_task_smallest_k_ideal_factors)(p, s, r, q)\n",
    "                                  for (p, s, r) in list_triples\n",
    "                                  for q in list_q_values)\n",
    "    for result in results:\n",
    "        list_total_info.extend(result)\n",
    "    return list_total_info"
   ]
  },
  {
   "cell_type": "markdown",
   "id": "4ce37065-480f-4730-96e8-0c6dc9d1b8eb",
   "metadata": {},
   "source": [
    "# Study over standardized setting of structured lattices (ML-KEM, ML-DSA and FN-DSA)"
   ]
  },
  {
   "cell_type": "code",
   "execution_count": 116,
   "id": "05ca110e-e0e0-46c5-83c4-1d2695516745",
   "metadata": {},
   "outputs": [],
   "source": [
    "list_q_values = [3329, 12289, 8380417]\n",
    "list_n_values = [256, 512, 1024]"
   ]
  },
  {
   "cell_type": "markdown",
   "id": "370a3ef7-4c19-4336-82cf-d5d74ed4ab0e",
   "metadata": {},
   "source": [
    "First, we have to select some values of (p, s, r) which are closest to the values of $n$ to study (with the additional restriction of surpassing $n$)."
   ]
  },
  {
   "cell_type": "code",
   "execution_count": null,
   "id": "dbc24827-a705-41db-b9a5-0c933f169f43",
   "metadata": {},
   "outputs": [],
   "source": [
    "def closest_factors(n):\n",
    "    primes = list(sympy.primerange(5, 2*n))\n",
    "    \n",
    "    best_r = 0\n",
    "    best_p = 0\n",
    "    best_s = 0\n",
    "    best_diff = float('inf')\n",
    "    \n",
    "    for p in primes:\n",
    "        s = 1\n",
    "        while True:\n",
    "            power_of_p = (p ** (s-1)) * ((p-1)//2) \n",
    "            if power_of_p - n > best_diff:\n",
    "                break\n",
    "    \n",
    "            r = 2\n",
    "            while 2 ** (r-1) * power_of_p - n <= best_diff:\n",
    "                diff = 2 ** (r-1) * power_of_p - n\n",
    "                if diff < best_diff and diff >= 0:\n",
    "                    best_r, best_p, best_s = r, p, s\n",
    "                    best_diff = diff\n",
    "                r += 1\n",
    "            s += 1\n",
    "    \n",
    "    return best_r, best_p, best_s\n",
    "\n",
    "def closest_factors_no_r(n):\n",
    "    primes = list(sympy.primerange(5, n + 1))\n",
    "    \n",
    "    best_r = 0\n",
    "    best_p = 0\n",
    "    best_s = 0\n",
    "    best_diff = float('inf')\n",
    "    \n",
    "    for p in primes:\n",
    "        s = 1\n",
    "        while True:\n",
    "            power_of_p = (p ** (s-1)) * ((p-1)//2) \n",
    "            if power_of_p - n > best_diff:\n",
    "                break\n",
    "    \n",
    "            diff = power_of_p - n\n",
    "            if diff < best_diff and diff >= 0:\n",
    "                best_p, best_s = p, s\n",
    "                best_diff = diff\n",
    "            s += 1\n",
    "    \n",
    "    return best_r, best_p, best_s"
   ]
  },
  {
   "cell_type": "code",
   "execution_count": null,
   "id": "9f3a081a-7c31-408f-85d1-89aced36c429",
   "metadata": {},
   "outputs": [],
   "source": [
    "# Example usage:\n",
    "n = 256\n",
    "r, p, s = closest_factors(n)\n",
    "print(f\"For n = {n}, the closest r, p, s are: r = {r}, p = {p}, s = {s}\")\n",
    "r, p, s = closest_factors_no_r(n)\n",
    "print(f\"For n = {n}, the closest p, s are: p = {p}, s = {s}\")"
   ]
  },
  {
   "cell_type": "code",
   "execution_count": null,
   "id": "7036409d-f0ac-4d6d-aa07-5e8082618277",
   "metadata": {},
   "outputs": [],
   "source": [
    "list_instances_n_setting = []\n",
    "for n in list_n_values:\n",
    "    r, p, s = closest_factors(n)\n",
    "    list_instances_n_setting.append((p, s, r))\n",
    "list_instances_n_setting"
   ]
  },
  {
   "cell_type": "markdown",
   "id": "5342d190-5d7d-4d90-9d48-3698d0f3c5ac",
   "metadata": {},
   "source": [
    "ML-KEM setting (n = 256, q = 3329)"
   ]
  },
  {
   "cell_type": "code",
   "execution_count": 117,
   "id": "94890c50-cc19-49bb-a96b-7fa545c4b8d9",
   "metadata": {},
   "outputs": [
    {
     "data": {
      "text/plain": [
       "([Poly(x + 1134, GF(3329)),\n",
       "  Poly(x + 1385, GF(3329)),\n",
       "  Poly(x + 1944, GF(3329)),\n",
       "  Poly(x + 2195, GF(3329)),\n",
       "  Poly(x^2 + 1055, GF(3329)),\n",
       "  Poly(x^28 + 2385x^26 + 1744x^24 + 2387x^22 + 328x^20 + 2901x^18 + x^16 + 2216x^14 + 2830x^12 + 764x^10 + 50x^8 + 1908x^6 + 341x^4 + 1503x^2 + 1229, GF(3329)),\n",
       "  Poly(x^28 + 675x^27 + 3315x^26 + 1504x^25 + 2629x^24 + 215x^23 + 1205x^22 + 245x^21 + 1716x^20 + 1376x^19 + 2780x^18 + 2998x^17 + 106x^16 + 1541x^15 + 2140x^14 + 695x^13 + 2757x^12 + 3316x^11 + 2306x^10 + 1367x^9 + 735x^8 + 1318x^7 + 686x^6 + 1423x^5 + 712x^4 + 2399x^3 + 1213x^2 + 1483x + 1444, GF(3329)),\n",
       "  Poly(x^28 + 2654x^27 + 3315x^26 + 1825x^25 + 2629x^24 + 3114x^23 + 1205x^22 + 3084x^21 + 1716x^20 + 1953x^19 + 2780x^18 + 331x^17 + 106x^16 + 1788x^15 + 2140x^14 + 2634x^13 + 2757x^12 + 13x^11 + 2306x^10 + 1962x^9 + 735x^8 + 2011x^7 + 686x^6 + 1906x^5 + 712x^4 + 930x^3 + 1213x^2 + 1846x + 1444, GF(3329)),\n",
       "  Poly(x^83 + 648x^82 + 673x^81 + 1830x^80 + 1954x^79 + 1065x^78 + 2104x^77 + 1496x^76 + 1523x^75 + 34x^74 + 1650x^73 + 2995x^72 + 3080x^71 + 2880x^70 + 610x^69 + 1972x^68 + 1705x^67 + 1189x^66 + 1734x^65 + 1424x^64 + 2106x^63 + 2314x^62 + 562x^61 + 1649x^60 + 2450x^59 + 2172x^58 + 3226x^57 + 151x^56 + 3307x^55 + 1487x^54 + 816x^53 + 1238x^52 + 456x^51 + 290x^50 + 712x^49 + 2623x^48 + 345x^47 + 16x^46 + 1878x^45 + 2505x^44 + 1930x^43 + 676x^42 + 524x^41 + 610x^40 + 2930x^39 + 3089x^38 + 1311x^37 + 2445x^36 + 1001x^35 + 1760x^34 + 234x^33 + 634x^32 + 1357x^31 + 633x^30 + 2039x^29 + 2831x^28 + 570x^27 + 2099x^26 + 2501x^25 + 2910x^24 + 228x^23 + 2811x^22 + 88x^21 + 3316x^20 + 3071x^19 + 3196x^18 + 2969x^17 + 2389x^16 + 263x^15 + 369x^14 + 3195x^13 + 953x^12 + 3174x^11 + 212x^10 + 2660x^9 + 1959x^8 + 376x^7 + 2233x^6 + 1300x^5 + 673x^4 + 2201x^3 + 1318x^2 + 2002x + 1091, GF(3329)),\n",
       "  Poly(x^83 + 2681x^82 + 673x^81 + 1499x^80 + 1954x^79 + 2264x^78 + 2104x^77 + 1833x^76 + 1523x^75 + 3295x^74 + 1650x^73 + 334x^72 + 3080x^71 + 449x^70 + 610x^69 + 1357x^68 + 1705x^67 + 2140x^66 + 1734x^65 + 1905x^64 + 2106x^63 + 1015x^62 + 562x^61 + 1680x^60 + 2450x^59 + 1157x^58 + 3226x^57 + 3178x^56 + 3307x^55 + 1842x^54 + 816x^53 + 2091x^52 + 456x^51 + 3039x^50 + 712x^49 + 706x^48 + 345x^47 + 3313x^46 + 1878x^45 + 824x^44 + 1930x^43 + 2653x^42 + 524x^41 + 2719x^40 + 2930x^39 + 240x^38 + 1311x^37 + 884x^36 + 1001x^35 + 1569x^34 + 234x^33 + 2695x^32 + 1357x^31 + 2696x^30 + 2039x^29 + 498x^28 + 570x^27 + 1230x^26 + 2501x^25 + 419x^24 + 228x^23 + 518x^22 + 88x^21 + 13x^20 + 3071x^19 + 133x^18 + 2969x^17 + 940x^16 + 263x^15 + 2960x^14 + 3195x^13 + 2376x^12 + 3174x^11 + 3117x^10 + 2660x^9 + 1370x^8 + 376x^7 + 1096x^6 + 1300x^5 + 2656x^4 + 2201x^3 + 2011x^2 + 2002x + 2238, GF(3329))],\n",
       " [1, 1, 1, 1, 1, 1, 1, 1, 1, 1])"
      ]
     },
     "execution_count": 117,
     "metadata": {},
     "output_type": "execute_result"
    }
   ],
   "source": [
    "pol = minimal_polynomial_case_psr(5, 1, 8, 3329)\n",
    "pol.factors()"
   ]
  },
  {
   "cell_type": "code",
   "execution_count": 118,
   "id": "a2581a0f-a8c1-43b6-b9c8-576761336f41",
   "metadata": {},
   "outputs": [
    {
     "data": {
      "text/plain": [
       "[]"
      ]
     },
     "execution_count": 118,
     "metadata": {},
     "output_type": "execute_result"
    }
   ],
   "source": [
    "list_info_small_roots_ml_kem = parallelized_task_small_roots([(5, 1, 8)], [3329])\n",
    "list_info_small_roots_ml_kem"
   ]
  },
  {
   "cell_type": "code",
   "execution_count": 119,
   "id": "65366684-006d-400b-8f2a-014124c0a2b2",
   "metadata": {},
   "outputs": [
    {
     "data": {
      "text/plain": [
       "[(5, 1, 8, 3329, 1134, 832)]"
      ]
     },
     "execution_count": 119,
     "metadata": {},
     "output_type": "execute_result"
    }
   ],
   "source": [
    "list_info_smallest_roots_ml_kem = parallelized_task_smallest_root([(5, 1, 8)], [3329])\n",
    "list_info_smallest_roots_ml_kem"
   ]
  },
  {
   "cell_type": "markdown",
   "id": "9ff56634-2d9d-4f51-8c7e-15825cf79646",
   "metadata": {},
   "source": [
    "Attack analysis over finite extensions of $\\mathbb{F}_q$"
   ]
  },
  {
   "cell_type": "code",
   "execution_count": null,
   "id": "367d51ea-550e-46d0-94b3-b79e3664ff2a",
   "metadata": {},
   "outputs": [],
   "source": [
    "list_info_small_k_ideal_factors_ml_kem = parallelized_task_small_k_ideal_factors([(5, 1, 8)], [3329])\n",
    "list_info_small_k_ideal_factors_ml_kem"
   ]
  },
  {
   "cell_type": "code",
   "execution_count": null,
   "id": "0240854c-2587-4c09-9bcc-3094c09f46c4",
   "metadata": {},
   "outputs": [],
   "source": [
    "list_info_smallest_k_ideal_factors_ml_kem = parallelized_task_smallest_k_ideal_factors([(5, 1, 8)], [3329])\n",
    "list_info_smallest_k_ideal_factors_ml_kem"
   ]
  },
  {
   "cell_type": "code",
   "execution_count": null,
   "id": "5f657096-5682-4784-8b31-09eca7a330e3",
   "metadata": {},
   "outputs": [],
   "source": [
    "# Small Set Error rate on Standardized setting\n",
    "sigma = 2\n",
    "small_err_set_chances_ml_kem = parallelized_task_small_set_attack_chances(list_info_smallest_roots_ml_kem, sigma)\n",
    "small_err_set_attack_ratio(small_err_set_chances_ml_kem)"
   ]
  },
  {
   "cell_type": "code",
   "execution_count": null,
   "id": "5664d66d-3fd7-45a4-9e76-6748e6cf0297",
   "metadata": {},
   "outputs": [],
   "source": [
    "# Small Set Error rate on Standardized setting\n",
    "sigma = 2\n",
    "small_err_set_chances_ml_kem_k_ideals = parallelized_task_small_set_attack_chances_k_ideals(list_info_smallest_k_ideal_factors_ml_kem, sigma)\n",
    "small_err_set_attack_ratio(small_err_set_chances_ml_kem_k_ideals)"
   ]
  },
  {
   "cell_type": "code",
   "execution_count": null,
   "id": "57eb0d14-3463-494f-89f8-4171277538b9",
   "metadata": {},
   "outputs": [],
   "source": [
    "# Small Error Values rate on Standardized setting\n",
    "sigma = 2\n",
    "small_err_values_chances_ml_kem = parallelized_task_small_err_values_chances(list_info_smallest_roots_ml_kem, sigma)\n",
    "small_err_value_ratio(small_err_values_chances_ml_kem)"
   ]
  },
  {
   "cell_type": "code",
   "execution_count": null,
   "id": "dfb64436-e9b4-423c-8c35-a6eb0f714f93",
   "metadata": {},
   "outputs": [],
   "source": [
    "# Small Error Values rate on Standardized setting\n",
    "sigma = 2\n",
    "small_err_values_chances_ml_kem_k_ideals = parallelized_task_small_err_values_chances_k_ideals(list_info_smallest_k_ideal_factors_ml_kem, sigma)\n",
    "small_err_value_ratio(small_err_values_chances_ml_kem_k_ideals)"
   ]
  },
  {
   "cell_type": "markdown",
   "id": "5e095629-c3ea-40a8-a855-596819bdc1f1",
   "metadata": {},
   "source": [
    "Result: No applicable attack against both roots and finite field extensions for \"ML-KEM-like\" setting"
   ]
  },
  {
   "cell_type": "markdown",
   "id": "ca6b9542-1fc1-4c81-b3c0-d1200f0d2c34",
   "metadata": {},
   "source": [
    "ML-DSA setting (n = 256, q = 8380417)"
   ]
  },
  {
   "cell_type": "code",
   "execution_count": null,
   "id": "5e2bdfcd-aa12-480a-87ff-e88c9adffb55",
   "metadata": {},
   "outputs": [],
   "source": [
    "pol = minimal_polynomial_case_psr(5, 1, 8, 8380417)\n",
    "pol.factors()"
   ]
  },
  {
   "cell_type": "code",
   "execution_count": null,
   "id": "05965ab9-6460-488a-82d2-cec2a02df243",
   "metadata": {},
   "outputs": [],
   "source": [
    "list_info_small_roots_ml_dsa = parallelized_task_small_roots([(5, 1, 8)], [8380417])\n",
    "list_info_small_roots_ml_dsa"
   ]
  },
  {
   "cell_type": "code",
   "execution_count": null,
   "id": "b3354550-180a-4a0f-935a-6e58cce7881d",
   "metadata": {},
   "outputs": [],
   "source": [
    "list_info_smallest_roots_ml_dsa = parallelized_task_smallest_root([(5, 1, 8)], [8380417])\n",
    "list_info_smallest_roots_ml_dsa"
   ]
  },
  {
   "cell_type": "code",
   "execution_count": null,
   "id": "618dfaff-755c-44ad-811d-ceb42e3e948f",
   "metadata": {},
   "outputs": [],
   "source": [
    "list_info_small_k_ideal_factors_ml_dsa = parallelized_task_small_k_ideal_factors([(5, 1, 8)], [8380417])\n",
    "list_info_small_k_ideal_factors_ml_dsa"
   ]
  },
  {
   "cell_type": "code",
   "execution_count": null,
   "id": "9636832c-e3f1-422e-9066-97b31565e722",
   "metadata": {},
   "outputs": [],
   "source": [
    "list_info_smallest_k_ideal_factors_ml_dsa = parallelized_task_smallest_k_ideal_factors([(5, 1, 8)], [8380417])\n",
    "list_info_smallest_k_ideal_factors_ml_dsa"
   ]
  },
  {
   "cell_type": "code",
   "execution_count": null,
   "id": "80142250-6ee3-403a-aa2f-ecce1113829c",
   "metadata": {},
   "outputs": [],
   "source": [
    "# Small Set Error rate on Standardized setting\n",
    "sigma = 2\n",
    "small_err_set_chances_ml_dsa_k_ideals = parallelized_task_small_set_attack_chances_k_ideals(list_info_smallest_k_ideal_factors_ml_dsa, sigma)\n",
    "small_err_set_attack_ratio(small_err_set_chances_ml_dsa_k_ideals)"
   ]
  },
  {
   "cell_type": "code",
   "execution_count": null,
   "id": "e2c2e9e6-2d51-43f8-a026-cb81239da672",
   "metadata": {},
   "outputs": [],
   "source": [
    "# Small Error Values rate on Standardized setting\n",
    "sigma = 2\n",
    "small_err_values_chances_ml_dsa_k_ideals = parallelized_task_small_err_values_chances_k_ideals(list_info_smallest_k_ideal_factors_ml_dsa, sigma)\n",
    "small_err_value_ratio(small_err_values_chances_ml_dsa_k_ideals)"
   ]
  },
  {
   "cell_type": "markdown",
   "id": "8841e0b5-7407-4853-a2f9-1fa9af98c659",
   "metadata": {},
   "source": [
    "Result: No applicable attack against both roots and finite field extensions for \"ML-DSA-like\" setting"
   ]
  },
  {
   "cell_type": "markdown",
   "id": "b5bc7a21-9b19-4388-afc2-d7fadfbe88f1",
   "metadata": {},
   "source": [
    "FN-DSA setting (n = 512, 1024, q = 12289)"
   ]
  },
  {
   "cell_type": "code",
   "execution_count": null,
   "id": "6622ba46-5578-44fc-b1b8-9e574de3cdd5",
   "metadata": {},
   "outputs": [],
   "source": [
    "pol = minimal_polynomial_case_psr(5, 1, 9, 12289)\n",
    "pol.factors()"
   ]
  },
  {
   "cell_type": "code",
   "execution_count": null,
   "id": "2be778d4-a3a7-4595-a526-3329a95abc1e",
   "metadata": {},
   "outputs": [],
   "source": [
    "list_info_small_roots_fn_dsa = parallelized_task_small_roots([(5, 1, 9)], [12289])\n",
    "list_info_small_roots_fn_dsa"
   ]
  },
  {
   "cell_type": "code",
   "execution_count": null,
   "id": "25b138be-1095-4b38-b6a4-e0bf0b351168",
   "metadata": {},
   "outputs": [],
   "source": [
    "list_info_smallest_roots_fn_dsa = parallelized_task_smallest_root([(5, 1, 9)], [12289])\n",
    "list_info_smallest_roots_fn_dsa"
   ]
  },
  {
   "cell_type": "code",
   "execution_count": null,
   "id": "1d6ab716-9aa3-4459-bce3-50490dbafaca",
   "metadata": {},
   "outputs": [],
   "source": [
    "list_info_small_k_ideal_factors_fn_dsa = parallelized_task_small_k_ideal_factors([(5, 1, 9)], [12289])\n",
    "list_info_small_k_ideal_factors_fn_dsa"
   ]
  },
  {
   "cell_type": "code",
   "execution_count": null,
   "id": "275a02fb-9818-4d80-bdde-1048b91e67ce",
   "metadata": {},
   "outputs": [],
   "source": [
    "list_info_smallest_k_ideal_factors_fn_dsa = parallelized_task_smallest_k_ideal_factors([(5, 1, 9)], [12289])\n",
    "list_info_smallest_k_ideal_factors_fn_dsa"
   ]
  },
  {
   "cell_type": "code",
   "execution_count": null,
   "id": "76b0186b-3d2a-4372-9e96-8917859b4f54",
   "metadata": {},
   "outputs": [],
   "source": [
    "# Small Set Error rate on Standardized setting\n",
    "sigma = 2\n",
    "small_err_set_chances_fn_dsa = parallelized_task_small_set_attack_chances(list_info_smallest_roots_fn_dsa, sigma)\n",
    "small_err_set_attack_ratio(small_err_set_chances_fn_dsa)"
   ]
  },
  {
   "cell_type": "code",
   "execution_count": null,
   "id": "7375c6b3-e1c4-4af6-9145-18e9824ad9ed",
   "metadata": {},
   "outputs": [],
   "source": [
    "# Small Error Values rate on Standardized setting\n",
    "sigma = 2\n",
    "small_err_values_chances_fn_dsa = parallelized_task_small_err_values_chances(list_info_smallest_roots_fn_dsa, sigma)\n",
    "small_err_value_ratio(small_err_values_chances_fn_dsa)"
   ]
  },
  {
   "cell_type": "markdown",
   "id": "0e6470e9-6c2f-42fd-9455-7d49da11d6db",
   "metadata": {},
   "source": [
    "Result: No applicable attack against both roots and finite field extensions for \"FN-DSA-like\" setting"
   ]
  },
  {
   "cell_type": "markdown",
   "id": "9c8d4e3a-0772-43fb-af44-990cdcc6b4e7",
   "metadata": {},
   "source": [
    "# General study of random instances ($n \\in [128, 256]$, $q \\in (1024, 8192)$)"
   ]
  },
  {
   "cell_type": "markdown",
   "id": "c5d529b1-c864-4cef-9d58-18c89a49da4e",
   "metadata": {},
   "source": [
    "Now we analyze how random instances, in general, can be affected by these kind of attacks."
   ]
  },
  {
   "cell_type": "code",
   "execution_count": 89,
   "id": "603b95fa-584c-494c-a462-70316beea5e0",
   "metadata": {},
   "outputs": [],
   "source": [
    "bottom_n = 128\n",
    "top_n = 256\n",
    "\n",
    "bottom_q = 1024\n",
    "top_q = 4096\n",
    "\n",
    "bottom_sigma = 2\n",
    "top_sigma = 8"
   ]
  },
  {
   "cell_type": "code",
   "execution_count": 90,
   "id": "1626dafb-9c34-4158-a477-84be11a64b8e",
   "metadata": {},
   "outputs": [
    {
     "name": "stdout",
     "output_type": "stream",
     "text": [
      "We get 25 combinations which yield a polynomial of degree in [128, 256]\n"
     ]
    }
   ],
   "source": [
    "list_p_values = list(sympy.primerange(5, 100))\n",
    "list_s_values = [1]\n",
    "list_r_values = [0, 2, 3, 4, 5, 6, 7, 8, 9, 10, 11, 12, 13, 14, 15, 16]\n",
    "\n",
    "list_instances_n_setting = []\n",
    "for r in list_r_values:\n",
    "  for s in list_s_values:\n",
    "    for p in list_p_values:\n",
    "      n = (p**(s-1))*(2**(r-2))*(p-1)\n",
    "      if bottom_n <= n <= top_n:\n",
    "        list_instances_n_setting.append((p, s, r))\n",
    "print(f'We get {len(list_instances_n_setting)} combinations which yield a polynomial of degree in [{bottom_n}, {top_n}]')"
   ]
  },
  {
   "cell_type": "code",
   "execution_count": 91,
   "id": "a3952cc7-1b8d-42b5-9843-66cccd3e04a6",
   "metadata": {},
   "outputs": [
    {
     "data": {
      "text/plain": [
       "[(67, 1, 3),\n",
       " (71, 1, 3),\n",
       " (73, 1, 3),\n",
       " (79, 1, 3),\n",
       " (83, 1, 3),\n",
       " (89, 1, 3),\n",
       " (97, 1, 3),\n",
       " (37, 1, 4),\n",
       " (41, 1, 4),\n",
       " (43, 1, 4),\n",
       " (47, 1, 4),\n",
       " (53, 1, 4),\n",
       " (59, 1, 4),\n",
       " (61, 1, 4),\n",
       " (17, 1, 5),\n",
       " (19, 1, 5),\n",
       " (23, 1, 5),\n",
       " (29, 1, 5),\n",
       " (31, 1, 5),\n",
       " (11, 1, 6),\n",
       " (13, 1, 6),\n",
       " (17, 1, 6),\n",
       " (5, 1, 7),\n",
       " (7, 1, 7),\n",
       " (5, 1, 8)]"
      ]
     },
     "execution_count": 91,
     "metadata": {},
     "output_type": "execute_result"
    }
   ],
   "source": [
    "list_instances_n_setting"
   ]
  },
  {
   "cell_type": "code",
   "execution_count": 92,
   "id": "503066d5-3dd2-4855-909c-32b883b0be45",
   "metadata": {},
   "outputs": [
    {
     "name": "stdout",
     "output_type": "stream",
     "text": [
      "We get 392 prime modulus of at most 13 bits, and minimum 10 bits\n"
     ]
    }
   ],
   "source": [
    "list_q_values = list(sympy.primerange(bottom_q, top_q))\n",
    "print(f'We get {len(list_q_values)} prime modulus of at most 13 bits, and minimum 10 bits')"
   ]
  },
  {
   "cell_type": "code",
   "execution_count": null,
   "id": "3697ad85-284d-4649-9ca5-5546d9957744",
   "metadata": {},
   "outputs": [],
   "source": [
    "list_info_small_roots_generic = parallelized_task_small_roots(list_instances_n_setting, list_q_values)\n",
    "list_info_small_roots_generic"
   ]
  },
  {
   "cell_type": "code",
   "execution_count": null,
   "id": "9d1a0fd3-f3e5-4155-ac62-b0610961e9ca",
   "metadata": {},
   "outputs": [],
   "source": [
    "list_info_smallest_roots_generic = parallelized_task_smallest_root(list_instances_n_setting, list_q_values)\n",
    "list_info_smallest_roots_generic"
   ]
  },
  {
   "cell_type": "code",
   "execution_count": 93,
   "id": "96cd3cc5-86fb-49cb-8cf1-86675c395dfc",
   "metadata": {},
   "outputs": [
    {
     "name": "stdout",
     "output_type": "stream",
     "text": [
      "We get 4 standard deviation values for the associated discrete Gaussian distribution\n"
     ]
    }
   ],
   "source": [
    "list_sigma_values = list(sympy.primerange(bottom_sigma, top_sigma))\n",
    "print(f'We get {len(list_sigma_values)} standard deviation values for the associated discrete Gaussian distribution')"
   ]
  },
  {
   "cell_type": "code",
   "execution_count": null,
   "id": "b8e3c31e-1307-4586-bc8c-9d4f5be015cb",
   "metadata": {},
   "outputs": [],
   "source": [
    "list_sigma_ssa = []\n",
    "for sigma in list_sigma_values:\n",
    "    small_err_set_chances = parallelized_task_small_set_attack_chances(list_info_smallest_roots_generic, sigma)\n",
    "    list_sigma_ssa.append(small_err_set_attack_ratio(small_err_set_chances))\n",
    "list_sigma_ssa"
   ]
  },
  {
   "cell_type": "code",
   "execution_count": null,
   "id": "0d653b50-67fa-4678-aa34-7fe34048f561",
   "metadata": {},
   "outputs": [],
   "source": [
    "list_sigma_sva = []\n",
    "for sigma in list_sigma_values:\n",
    "    small_err_values_chances = parallelized_task_small_err_values_chances(list_info_smallest_roots_generic, sigma)\n",
    "    list_sigma_sva.append(small_err_value_ratio(small_err_values_chances))\n",
    "list_sigma_sva"
   ]
  }
 ],
 "metadata": {
  "kernelspec": {
   "display_name": "Python 3 (ipykernel)",
   "language": "python",
   "name": "python3"
  },
  "language_info": {
   "codemirror_mode": {
    "name": "ipython",
    "version": 3
   },
   "file_extension": ".py",
   "mimetype": "text/x-python",
   "name": "python",
   "nbconvert_exporter": "python",
   "pygments_lexer": "ipython3",
   "version": "3.11.1"
  }
 },
 "nbformat": 4,
 "nbformat_minor": 5
}
