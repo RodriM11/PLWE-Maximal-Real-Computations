{
 "cells": [
  {
   "cell_type": "markdown",
   "id": "92890bc4-55a9-4a70-a06a-e7fdd28c4707",
   "metadata": {},
   "source": [
    "# Python Notebook for calculations likelihood root-based attacks against maximal real extensions of the forn $n = 2^r \\cdot p^s$"
   ]
  },
  {
   "cell_type": "markdown",
   "id": "ff6a8062-b94b-48a7-897d-0f0a84bd7433",
   "metadata": {},
   "source": [
    "# Dependencies"
   ]
  },
  {
   "cell_type": "code",
   "execution_count": null,
   "id": "6f7257fd-8ae7-4ed3-a057-ca81824d02c8",
   "metadata": {},
   "outputs": [],
   "source": [
    "# Initial dependencies to be used\n",
    "!pip install galois, sympy, joblib, math, numpy"
   ]
  },
  {
   "cell_type": "code",
   "execution_count": 1,
   "id": "e636f43a-a701-44e0-b8d8-0eed9115e3da",
   "metadata": {},
   "outputs": [],
   "source": [
    "# work with number fields, primes\n",
    "import galois, sympy\n",
    "# parallelized executions\n",
    "from joblib import Parallel, delayed\n",
    "# useful math functions for root-based calculations\n",
    "from math import erf, ceil, sqrt, floor\n",
    "# Chebychev factorization\n",
    "import numpy as np\n",
    "# Big numbers\n",
    "import decimal\n",
    "#Pickle data\n",
    "import pickle\n",
    "#Random subset selection\n",
    "import random\n",
    "# Graphs\n",
    "import matplotlib.pyplot as plt"
   ]
  },
  {
   "cell_type": "markdown",
   "id": "050ec9e9-fe04-4367-9043-5c5c664910e8",
   "metadata": {},
   "source": [
    "# Initial Definitions and Auxiliary Processes"
   ]
  },
  {
   "cell_type": "markdown",
   "id": "cc7405b9-abdd-479f-98c2-d80ace05cbec",
   "metadata": {},
   "source": [
    "To analyze the case of roots over small finite extensions of $\\mathbb{F}_q$, and in an attempt to bring down the computational cost of finding roots, we will in this section get the factors of the maximal real polynomial"
   ]
  },
  {
   "cell_type": "code",
   "execution_count": null,
   "id": "2890c3e4-6e19-4567-af6e-2617cf5c2581",
   "metadata": {},
   "outputs": [],
   "source": [
    "#Chebychev for the sum of T_i(x) terms\n",
    "cheb = np.polynomial.chebyshev.Chebyshev([1,1,1])\n",
    "print(cheb)"
   ]
  },
  {
   "cell_type": "markdown",
   "id": "92517522-610c-4243-ba2e-a5bdc6d2c6ab",
   "metadata": {},
   "source": [
    "We construct the modified chebychev polynomials of the form $V_i(x) = 2 \\cdot T_i(x/2)$ is. First, we construct the first order Chebychev polynomials over finite fields. Then, extract the coefficients of the polynomials. And, lastly, interate over each to add the term $\\frac{1}{2}^i$."
   ]
  },
  {
   "cell_type": "code",
   "execution_count": 2,
   "id": "5f822207-ccfa-4090-b309-3f3c1cb13b68",
   "metadata": {},
   "outputs": [],
   "source": [
    "def cheb_ff_i(i, q):\n",
    "    F = galois.GF(q)\n",
    "    \n",
    "    # Initial conditions\n",
    "    T_0 = galois.Poly([1], field=F)\n",
    "    T_1 = galois.Poly([1, 0], field=F)\n",
    "    \n",
    "    if i == 0:\n",
    "        return T_0\n",
    "    elif i == 1:\n",
    "        return T_1\n",
    "    else:\n",
    "        aux_term = galois.Poly([2, 0], field=F)\n",
    "\n",
    "        for i in range(2, i + 1):\n",
    "            T_n = aux_term * T_1 - T_0\n",
    "            T_0 = T_1\n",
    "            T_1 = T_n\n",
    "        return T_n\n",
    "\n",
    "def mod_cheb_ff_i(i, q):\n",
    "    F = galois.GF(q)\n",
    "    if i == 0:\n",
    "        return galois.Poly([1], field=F)\n",
    "    else:\n",
    "        T_n = cheb_ff_i(i, q)\n",
    "        coeffs = []\n",
    "        coef = [2*x for x in T_n.coeffs][::-1]\n",
    "        for i in range(len(coef)):\n",
    "            coeffs.append(coef[i] / (F(2)**i))\n",
    "        return galois.Poly(coeffs[::-1], field=F)"
   ]
  },
  {
   "cell_type": "markdown",
   "id": "63904724-539a-40c1-9a38-853022c9d382",
   "metadata": {},
   "source": [
    "Now, we define the minimal polynomials of the maximal real extensions in the cases $n = p^s$ and $n = 2^r \\cdot p^s$"
   ]
  },
  {
   "cell_type": "code",
   "execution_count": 3,
   "id": "c8a407a7-df1e-4430-abd2-a6abe3b949d6",
   "metadata": {},
   "outputs": [],
   "source": [
    "def minimal_polynomial_case_ps(p, s, q):\n",
    "    F = galois.GF(q)\n",
    "    k = (p-1)//2\n",
    "    term = (p**(s-1))\n",
    "    pol = galois.Poly([0], field=F)\n",
    "    \n",
    "    for i in range(0, k+1):\n",
    "        coeff = i*term\n",
    "        pol = pol + mod_cheb_ff_i(coeff, q)\n",
    "    return pol\n",
    "\n",
    "def minimal_polynomial_case_psr(p, s, r, q):\n",
    "    #Case r = 0 represents n = p^s\n",
    "    if r == 0:\n",
    "        return minimal_polynomial_case_ps(p, s, q)\n",
    "    F = galois.GF(q)\n",
    "    k = (p-1)//2\n",
    "    term = (p**(s-1)) * (2**(r-1))\n",
    "    pol = galois.Poly([0], field=F)\n",
    "    \n",
    "    for i in range(0, k+1):\n",
    "        coeff = i*term\n",
    "        pol = pol + mod_cheb_ff_i(coeff, q)*galois.Poly([(-1)**(k-i)], field = F)\n",
    "    return pol"
   ]
  },
  {
   "cell_type": "code",
   "execution_count": 4,
   "id": "8c2e9981-892e-40e3-b984-2fc6682a5a43",
   "metadata": {},
   "outputs": [
    {
     "name": "stdout",
     "output_type": "stream",
     "text": [
      "The result of the minimal polynomial x^8 + 6x^6 + 5x^4 + 2x^2 + 1 at x = 1 for p = 5, s = 1 and r = 3 in GF(7) is 1\n",
      "The result of the minimal polynomial x^2 + x + 6 at x = 1 for p = 5, s = 1 and r = 0 in GF(7) is 1\n"
     ]
    }
   ],
   "source": [
    "p = 5\n",
    "s = 1\n",
    "r = 3\n",
    "q = 7\n",
    "\n",
    "x = 1\n",
    "\n",
    "pol = minimal_polynomial_case_psr(p, s, r, q)\n",
    "print(f'The result of the minimal polynomial {pol} at x = {x} for p = {p}, s = {s} and r = {r} in GF({q}) is {pol(x)}')\n",
    "\n",
    "r = 0\n",
    "pol = minimal_polynomial_case_psr(p, s, r, q)\n",
    "print(f'The result of the minimal polynomial {pol} at x = {x} for p = {p}, s = {s} and r = {r} in GF({q}) is {pol(x)}')"
   ]
  },
  {
   "cell_type": "code",
   "execution_count": 5,
   "id": "8ee93084-3894-49a2-9090-b8db7f3b6fa5",
   "metadata": {},
   "outputs": [],
   "source": [
    "for x in pol.roots():\n",
    "    print(f'Root x = {int(x)} with multiplicative order r = {x.multiplicative_order()}')"
   ]
  },
  {
   "cell_type": "code",
   "execution_count": 6,
   "id": "36235e50-459c-48d0-a212-3e2d91170c1b",
   "metadata": {},
   "outputs": [
    {
     "name": "stdout",
     "output_type": "stream",
     "text": [
      "Factor x^2 + x + 6 of degree 2 with multiplicity 1\n"
     ]
    }
   ],
   "source": [
    "factors, multiplicities = pol.factors()\n",
    "\n",
    "# Loop through the factors and their corresponding multiplicities\n",
    "for factor, multiplicity in zip(factors, multiplicities):\n",
    "    print(f\"Factor {factor} of degree {factor.degree} with multiplicity {multiplicity}\")"
   ]
  },
  {
   "cell_type": "markdown",
   "id": "4748f9ca-c759-4c0c-9fc3-617372821eb8",
   "metadata": {},
   "source": [
    "We also need to define the cylcotomic polynomial of associated degree to a certain configuration"
   ]
  },
  {
   "cell_type": "markdown",
   "id": "e9e859d9-04f7-4e1f-8e75-ddbfb2f9c0f8",
   "metadata": {},
   "source": [
    "Given that, for the n-th maximal real polynomial (being $n = 2^r \\cdot p^s$), we need the $\\frac{n}{2}$-th cyclotomic polynomial. For simplicity with regards to obtaining a formula for the aforementioned cyclotomic polynomial, we restrict to the case $n = 2^r \\cdot p^s$ with $r \\geq 2$"
   ]
  },
  {
   "cell_type": "code",
   "execution_count": 27,
   "id": "ebbc4493-14f3-4dc1-9cf4-438dc2ccd589",
   "metadata": {},
   "outputs": [],
   "source": [
    "def cyclotomic_polynomial_case_psr(p, s, r, q):\n",
    "    F = galois.GF(q)\n",
    "    \n",
    "    if r <= 1:\n",
    "        # x - 1 as a dummy solution, it is not valid\n",
    "        return galois.Poly([1, -1], field = F)\n",
    "\n",
    "    l = s\n",
    "    m = r - 1\n",
    "    \n",
    "    k = (p - 1)\n",
    "    term = (p**(l-1)) * (2**(m-1))\n",
    "    terms = [0 for x in range(0, k*term + 1)]\n",
    "    for i in range(0, k+1):\n",
    "        coeff = i*term\n",
    "        terms[coeff] = ((-1)**i)\n",
    "    \n",
    "    return galois.Poly(terms[::-1], field=F)"
   ]
  },
  {
   "cell_type": "code",
   "execution_count": 57,
   "id": "e30b6dc3-b7e5-4e11-bb7e-d11ad5fd3c72",
   "metadata": {},
   "outputs": [
    {
     "name": "stdout",
     "output_type": "stream",
     "text": [
      "Cyclotomic polynomial of n = 2^2 * 5^1 in GF(7): x^4 + 6x^3 + x^2 + 6x + 1\n"
     ]
    }
   ],
   "source": [
    "r = 2\n",
    "p = 5\n",
    "s = 1\n",
    "q = 7\n",
    "\n",
    "print(f'Cyclotomic polynomial of n = 2^{r} * {p}^{s} in GF({q}): {cyclotomic_polynomial_case_psr(p, s, r, q)}')"
   ]
  },
  {
   "cell_type": "markdown",
   "id": "175f7441-3dbe-4a63-8551-ff13644043ab",
   "metadata": {},
   "source": [
    "Now, we define the calculations for each of the root-based attacks that will be studied (over the base field $\\mathbb{F}_q$ and finite small extensions of it):\n",
    "\n",
    "* Attack on the Small Set of Error Values\n",
    "* Attack on the Small Error Values\n",
    "* Attack on the Small Error Values (Fully Probabilistic, Generalized)"
   ]
  },
  {
   "cell_type": "code",
   "execution_count": 5,
   "id": "8b4ba57f-26b2-4b5e-a414-ed2c6ec464d3",
   "metadata": {},
   "outputs": [],
   "source": [
    "#Small Set of Error Values Attack ratio\n",
    "\n",
    "def likelihood_small_set(sigma, n, r, q):\n",
    "    block = ((4*n*sigma) / r)\n",
    "    # provision to handle 'extremely big' numbers\n",
    "    if (block >= 1.4 and r >= 128) or n < r:\n",
    "        return 1\n",
    "    card_set = block**r\n",
    "    return card_set/q"
   ]
  },
  {
   "cell_type": "code",
   "execution_count": 6,
   "id": "f580dea5-6890-419c-851f-e854834b17b2",
   "metadata": {},
   "outputs": [],
   "source": [
    "# Get Small Set of Error Values change of each instance\n",
    "\n",
    "def process_outer_task_small_set_attack_chances(p, s, r, q, sigma, order):\n",
    "    n = (2**(r-2))*(p**(s-1))*(p-1)\n",
    "    return likelihood_small_set(sigma, n, order, q) < 1\n",
    "\n",
    "# Main parallelized execution\n",
    "def parallelized_task_small_set_attack_chances(list_total_info, sigma):\n",
    "    list_chances_ssa = []\n",
    "    results = Parallel(n_jobs=-1)(delayed(process_outer_task_small_set_attack_chances)(p, s, r, q, sigma, order)\n",
    "                                  for (p, s, r, q, alpha, order) in list_total_info)\n",
    "    for result in results:\n",
    "        list_chances_ssa.append(result)\n",
    "    return list_chances_ssa\n",
    "\n",
    "def process_outer_task_small_set_attack_chances_k_ideals(p, s, r, q, sigma, order, k):\n",
    "    if order == float('inf'):\n",
    "        #not a real k-ideal factor\n",
    "        return False\n",
    "    # Account for k-division due to the trace\n",
    "    n = (2**(r-2))*(p**(s-1))*(p-1)//k\n",
    "    return likelihood_small_set(sigma, n, order, q) < 1\n",
    "\n",
    "# Main parallelized execution\n",
    "def parallelized_task_small_set_attack_chances_k_ideals(list_total_info, sigma):\n",
    "    list_chances_ssa = []\n",
    "    results = Parallel(n_jobs=-1)(delayed(process_outer_task_small_set_attack_chances_k_ideals)(p, s, r, q, sigma, order, k)\n",
    "                                  for (p, s, r, q, value, order, k) in list_total_info)\n",
    "    for result in results:\n",
    "        list_chances_ssa.append(result)\n",
    "    return list_chances_ssa\n",
    "\n",
    "def small_err_set_attack_ratio(list_chances_ssa):\n",
    "    return len([p for p in list_chances_ssa if p == True])/len(list_chances_ssa)"
   ]
  },
  {
   "cell_type": "code",
   "execution_count": 7,
   "id": "f2c70c2b-d7bd-4976-9b73-cd599d9caaf9",
   "metadata": {},
   "outputs": [],
   "source": [
    "#Small Error Values Attack (with Fully Probabilistic Approach)\n",
    "\n",
    "#Definitions of each distribution case\n",
    "def case_distribution_1(n, sigma):\n",
    "  quot = 1\n",
    "  factor = (sigma**2)*n\n",
    "  return sqrt(factor*quot)\n",
    "\n",
    "def case_distribution_2(n, sigma, root, ord):\n",
    "  quot = ((root**(2*ord)) - 1)//((root**2) - 1)\n",
    "  factor = (n/ord)*(sigma**2)\n",
    "  return sqrt(factor*quot)\n",
    "\n",
    "def case_distribution_3(n, sigma, root):\n",
    "  quot = ((root**(2*n)) - 1)//((root**2) - 1)\n",
    "  factor = sigma**2\n",
    "  return decimal.Decimal(factor*quot).sqrt()\n",
    "\n",
    "# Auxiliary function to compute the integral that reigns over the success probability of the fully probabilistic approach\n",
    "def A(r):\n",
    "  return (erf(r/4))/2\n",
    "\n",
    "def N(r):\n",
    "  return (sqrt(2)/r) - (1/2)\n",
    "\n",
    "def Bterm(k, r):\n",
    "  return (erf(r*(k + (5/4))) - erf(r*(k + (3/4))))/2\n",
    "\n",
    "def B(r):\n",
    "  bound = N(r)\n",
    "  value = 0.0\n",
    "  for k in range(floor(bound)):\n",
    "      value += Bterm(k , r)\n",
    "  if bound > 0:\n",
    "    correction_bound = bound - floor(bound)\n",
    "    if correction_bound <= 1/4:\n",
    "      correction_rate = 0\n",
    "    elif correction_bound < 3/4:\n",
    "      correction_rate = (erf(sqrt(2)) - erf(r*(floor(bound) + (3/4))))/2\n",
    "    else:\n",
    "      correction_rate = (erf(r*(floor(bound) + (5/4))) - erf(r*(floor(bound) + (3/4))))/2\n",
    "    value += correction_rate\n",
    "  return value\n",
    "\n",
    "def I(r):\n",
    "  return (A(r) + B(r))/(erf(sqrt(2))/2)\n",
    "\n",
    "def Icota(r):\n",
    "  return I(r) - 1/2"
   ]
  },
  {
   "cell_type": "code",
   "execution_count": 66,
   "id": "a52490c5-d978-4952-95c4-7ce137191b53",
   "metadata": {},
   "outputs": [],
   "source": [
    "# Get Small Error Values change of each instance\n",
    "def likelihood_small_err_values_chances(p, s, r, q, sigma, alpha, order):\n",
    "    if alpha == None:\n",
    "        # not a root\n",
    "        return 0\n",
    "    n = (2**(r-2))*(p**(s-1))*(p-1)\n",
    "    if order == 1:\n",
    "        sigma_image = case_distribution_1(n, sigma)\n",
    "    elif order < 5:\n",
    "        sigma_image = case_distribution_2(n, sigma, alpha, order)\n",
    "    else:\n",
    "        sigma_image = float(case_distribution_3(n, sigma, alpha))\n",
    "    if (q/4 < 2*sigma_image):\n",
    "        ratio = q/(sqrt(2) * sigma_image)\n",
    "        if ratio < 1*(10**(-10)):\n",
    "            return 0\n",
    "        else:\n",
    "            return Icota(ratio)\n",
    "    else:\n",
    "        return 1\n",
    "\n",
    "# Main parallelized execution\n",
    "def parallelized_task_small_err_values_chances(list_total_info, sigma):\n",
    "    list_chances_sva = []\n",
    "    results = Parallel(n_jobs=-1)(delayed(likelihood_small_err_values_chances)(p, s, r, q, sigma, alpha, order)\n",
    "                                  for (p, s, r, q, alpha, order) in list_total_info)\n",
    "    for result in results:\n",
    "        list_chances_sva.append(result)\n",
    "    return list_chances_sva\n",
    "\n",
    "def likelihood_small_err_values_chances_k_ideals(p, s, r, q, sigma, value, order, k):\n",
    "    if value == None:\n",
    "        # not a real k-ideal factor\n",
    "        return 0\n",
    "    n = (2**(r-2))*(p**(s-1))*(p-1)//k\n",
    "    if n < order:\n",
    "        # n is supposed to be divisible by r (at least smaller), otherwise the computation does not make sense\n",
    "        return 0\n",
    "    if order == 1:\n",
    "        sigma_image = case_distribution_1(n, sigma)\n",
    "    elif order < 5:\n",
    "        sigma_image = case_distribution_2(n, sigma, value, order)\n",
    "    else:\n",
    "        sigma_image = float(case_distribution_3(n, sigma, value))\n",
    "    print(f'Sigma image: {sigma_image} on combination ({p}, {s}, {r}, {q}, {k}, {sigma})')\n",
    "    if (q/4 < 2*sigma_image):\n",
    "        ratio = q/(sqrt(2) * sigma_image)\n",
    "        if ratio == 0:\n",
    "            print(f'Ratio = 0')\n",
    "            return 0\n",
    "        else:\n",
    "            print(f'Ratio = {Icota(ratio)}')\n",
    "            return Icota(ratio)\n",
    "    else:\n",
    "        print(f'Ratio = 1')\n",
    "        return 1\n",
    "\n",
    "# Main parallelized execution\n",
    "def parallelized_task_small_err_values_chances_k_ideals(list_total_info, sigma):\n",
    "    list_chances_sva = []\n",
    "    results = Parallel(n_jobs=-1)(delayed(likelihood_small_err_values_chances_k_ideals)(p, s, r, q, sigma, value, order, k)\n",
    "                                  for (p, s, r, q, value, order, k) in list_total_info)\n",
    "    for result in results:\n",
    "        list_chances_sva.append(result)\n",
    "    return list_chances_sva\n",
    "\n",
    "def small_err_value_ratio(list_chances_sva):\n",
    "    return len([p for p in list_chances_sva if p > 0])/len(list_chances_sva)"
   ]
  },
  {
   "cell_type": "markdown",
   "id": "e38d219c-1ca0-4f6b-85d8-73040a4a9e2b",
   "metadata": {},
   "source": [
    "We introduce here the main process to extract all relevant information towards root-based attacks againt $\\mathbb{F}_q$ or small finite extensions of it"
   ]
  },
  {
   "cell_type": "code",
   "execution_count": 9,
   "id": "e1b1e8a9-145e-42f8-92ec-a3e987463bae",
   "metadata": {},
   "outputs": [],
   "source": [
    "# Get minimal polynomial roots info and k-ideals info for a certain setting\n",
    "\n",
    "def process_outer_task_min_total_info(p, s, r, q, cyclotomic=False):\n",
    "    # min pol\n",
    "    if not cyclotomic:\n",
    "        pol = minimal_polynomial_case_psr(p, s, r, q)\n",
    "    else:\n",
    "        pol = cyclotomic_polynomial_case_psr(p, s, r, q)\n",
    "    total_info = []\n",
    "    \n",
    "    # roots info \n",
    "    list_roots_info = [(int(x), x.multiplicative_order()) for x in pol.roots()]\n",
    "\n",
    "    # k-ideal factors info\n",
    "    list_factors_info = []\n",
    "    factors, multiplicities = pol.factors()\n",
    "    for k in range(2, 5):\n",
    "        list_terms = []\n",
    "        for g in factors:\n",
    "            if g.degree == k:\n",
    "                non_zero_degrees = [int(x) for x in g.nonzero_degrees]\n",
    "                if len(non_zero_degrees) == 2 and non_zero_degrees[1] == 0:\n",
    "                    non_zero_coeffs = [x for x in g.nonzero_coeffs]\n",
    "                    independent_term = int(-non_zero_coeffs[1])\n",
    "                    order_independent_term = (-non_zero_coeffs[1]).multiplicative_order()\n",
    "                    list_terms.append((independent_term, order_independent_term))\n",
    "        list_factors_info.append((k, list_terms))\n",
    "\n",
    "    total_info.append((p, s, r, q, list_roots_info, list_factors_info))\n",
    "    #return all information\n",
    "    return total_info\n",
    "\n",
    "def parallelized_task_min_pol_total_info(list_triples, list_q_values):\n",
    "    # get total info\n",
    "    list_min_pols_total_info = []\n",
    "    results = Parallel(n_jobs=-1)(delayed(process_outer_task_min_total_info)(p, s, r, q, False)\n",
    "                                  for (p, s, r) in list_triples\n",
    "                                  for q in list_q_values)\n",
    "\n",
    "    for result in results:\n",
    "        list_min_pols_total_info.extend(result)\n",
    "    return list_min_pols_total_info\n",
    "\n",
    "def parallelized_task_min_pol_total_info_cyclotomic(list_triples, list_q_values):\n",
    "    # get total info\n",
    "    list_min_pols_total_info = []\n",
    "    results = Parallel(n_jobs=-1)(delayed(process_outer_task_min_total_info)(p, s, r, q, True)\n",
    "                                  for (p, s, r) in list_triples\n",
    "                                  for q in list_q_values)\n",
    "\n",
    "    for result in results:\n",
    "        list_min_pols_total_info.extend(result)\n",
    "    return list_min_pols_total_info"
   ]
  },
  {
   "cell_type": "code",
   "execution_count": 10,
   "id": "9974cec1-9dce-4126-a917-cfa4bf462607",
   "metadata": {},
   "outputs": [],
   "source": [
    "def get_roots_info(list_total_info):\n",
    "    list_roots_info = []\n",
    "    for (p, s, r, q, roots, factors) in list_total_info:\n",
    "        list_roots_info.append((p, s, r, q, roots))\n",
    "    return list_roots_info\n",
    "\n",
    "def get_factors_info(list_total_info):\n",
    "    list_factors_info = []\n",
    "    for (p, s, r, q, roots, factors) in list_total_info:\n",
    "        list_factors_info.append((p, s, r, q, factors))\n",
    "    return list_factors_info"
   ]
  },
  {
   "cell_type": "markdown",
   "id": "b57b3530-21c2-4792-9fe1-3ae7276d631b",
   "metadata": {},
   "source": [
    "Auxiliar function to load/save long computations"
   ]
  },
  {
   "cell_type": "code",
   "execution_count": 11,
   "id": "4f5749b0-af7b-4afc-b12a-67aaf504e75d",
   "metadata": {},
   "outputs": [],
   "source": [
    "def save_data(data, filename):\n",
    "    file = open(filename, 'wb')\n",
    "    # dump information to that file\n",
    "    pickle.dump(data, file)\n",
    "    # close the file\n",
    "    file.close()\n",
    "    \n",
    "def load_data(filename):\n",
    "    # open a file, where you stored the pickled data\n",
    "    file = open(filename, 'rb')\n",
    "    # dump information to that file\n",
    "    data = pickle.load(file)\n",
    "    # close the file\n",
    "    file.close()\n",
    "\n",
    "    return data"
   ]
  },
  {
   "cell_type": "markdown",
   "id": "9a79d071-b26a-4e1b-a660-5895804e7d99",
   "metadata": {},
   "source": [
    "# Techniques for study over $\\mathbb{F}_q$ (i.e, using roots directly)"
   ]
  },
  {
   "cell_type": "markdown",
   "id": "6493a4b2-cde3-4a78-bb71-aa721c6ae922",
   "metadata": {},
   "source": [
    "Next, we introduce the processes we will run in order to get the desired data:\n",
    "\n",
    "* Number of instances with roots of small order (i.e. order < 5)\n",
    "* Root of minimal order of each instance"
   ]
  },
  {
   "cell_type": "code",
   "execution_count": 12,
   "id": "1769483e-9e50-49e9-bc2c-3c7ec6ac5555",
   "metadata": {},
   "outputs": [],
   "source": [
    "# Number of small order roots in a certain instance\n",
    "\n",
    "def process_outer_task_small_roots(p, s, r, q, roots):\n",
    "    list_info = []\n",
    "\n",
    "    for (x, order) in roots:\n",
    "        if order < 5:\n",
    "            list_info.append((p, s, r, q, x, order))\n",
    "    return list_info\n",
    "\n",
    "def parallelized_task_small_roots(list_min_pol_total_info):\n",
    "    list_total_info = []\n",
    "    list_min_pol_roots_info = get_roots_info(list_min_pol_total_info)\n",
    "    \n",
    "    results = Parallel(n_jobs=-1)(delayed(process_outer_task_small_roots)(p, s, r, q, roots)\n",
    "                                  for (p, s, r, q, roots) in list_min_pol_roots_info)\n",
    "    for result in results:\n",
    "        list_total_info.extend(result)\n",
    "    return list_total_info"
   ]
  },
  {
   "cell_type": "code",
   "execution_count": 13,
   "id": "dd3d514d-d0e8-470d-87e2-553b713b0fbe",
   "metadata": {},
   "outputs": [],
   "source": [
    "# Smallest-order root of each instance\n",
    "\n",
    "def process_outer_task_smallest_root(p, s, r, q, roots):\n",
    "    list_info = []\n",
    "    min_order = float('inf')\n",
    "    best_root = None\n",
    "    \n",
    "    for (x, order) in roots:\n",
    "        if order < min_order:\n",
    "            best_root = x\n",
    "            min_order = order\n",
    "    list_info.append((p, s, r, q, best_root, min_order))\n",
    "    return list_info\n",
    "\n",
    "# Main parallelized execution\n",
    "def parallelized_task_smallest_root(list_min_pol_total_info):\n",
    "    list_total_info = []\n",
    "    list_min_pol_roots_info = get_roots_info(list_min_pol_total_info)\n",
    "    \n",
    "    results = Parallel(n_jobs=-1)(delayed(process_outer_task_smallest_root)(p, s, r, q, roots)\n",
    "                                  for (p, s, r, q, roots) in list_min_pol_roots_info)\n",
    "    for result in results:\n",
    "        list_total_info.extend(result)\n",
    "    return list_total_info"
   ]
  },
  {
   "cell_type": "markdown",
   "id": "e2a0cb53-d2b0-441c-9c99-1708c1a6a191",
   "metadata": {},
   "source": [
    "# Techinques for study over finite extensions of $\\mathbb{F}_q$ (of degree up to $k = 4$)"
   ]
  },
  {
   "cell_type": "markdown",
   "id": "e8c1cd05-ad1e-4e10-92ac-a8f8dc8f3644",
   "metadata": {},
   "source": [
    "Here, we won't be interested in roots of the polynomials but, based upon the works of Blanco et al., on $k$-ideal factors, i.e. factors of the form $x^k + a$, were $a \\in \\mathbb{F}_q$ and of small order"
   ]
  },
  {
   "cell_type": "markdown",
   "id": "f92efaa4-ee29-435b-99d6-487026c18e0c",
   "metadata": {},
   "source": [
    "Next, we introduce the processes we will run in order to get the desired data:\n",
    "\n",
    "* Number of instances with k-ideal factors with independent element of small order (i.e. order < 5)\n",
    "* k-ideal factor of minimal order of each instance"
   ]
  },
  {
   "cell_type": "code",
   "execution_count": 14,
   "id": "acd7d19e-d083-4a97-aa22-eb3f9bb8d945",
   "metadata": {},
   "outputs": [],
   "source": [
    "# Number of k-ideal factors in a certain instance\n",
    "\n",
    "def process_outer_task_small_k_ideal_factors(p, s, r, q, factors):\n",
    "    list_info = []\n",
    "\n",
    "    for (k, elems) in factors:\n",
    "        for (a, order) in elems:\n",
    "            if order < 5:\n",
    "                list_info.append((p, s, r, q, a, order, k))\n",
    "    return list_info\n",
    "\n",
    "def parallelized_task_small_k_ideal_factors(list_min_pol_total_info):\n",
    "    list_total_info = []\n",
    "    list_min_pol_factors_info = get_factors_info(list_min_pol_total_info)\n",
    "    \n",
    "    results = Parallel(n_jobs=-1)(delayed(process_outer_task_small_k_ideal_factors)(p, s, r, q, factors)\n",
    "                                  for (p, s, r, q, factors) in list_min_pol_factors_info)\n",
    "    for result in results:\n",
    "        list_total_info.extend(result)\n",
    "    return list_total_info"
   ]
  },
  {
   "cell_type": "code",
   "execution_count": 15,
   "id": "b6b35b23-343d-477b-8504-cf728a8268b4",
   "metadata": {},
   "outputs": [],
   "source": [
    "# Number of k-ideal factors in a certain instance\n",
    "\n",
    "def process_outer_task_smallest_k_ideal_factors(p, s, r, q, factors):\n",
    "    list_info = []\n",
    "\n",
    "    for (k, elems) in factors:\n",
    "        min_order = float('inf')\n",
    "        best_term = None\n",
    "        for (a, order) in elems:\n",
    "            if order < min_order:\n",
    "                min_order = order\n",
    "                best_term = a\n",
    "                        \n",
    "        list_info.append((p, s, r, q, best_term, min_order, k))\n",
    "    return list_info\n",
    "\n",
    "def parallelized_task_smallest_k_ideal_factors(list_min_pol_total_info):\n",
    "    list_total_info = []\n",
    "    list_min_pol_factors_info = get_factors_info(list_min_pol_total_info)\n",
    "    \n",
    "    results = Parallel(n_jobs=-1)(delayed(process_outer_task_smallest_k_ideal_factors)(p, s, r, q, factors)\n",
    "                                  for (p, s, r, q, factors) in list_min_pol_factors_info)\n",
    "    for result in results:\n",
    "        list_total_info.extend(result)\n",
    "    return list_total_info"
   ]
  },
  {
   "cell_type": "markdown",
   "id": "4ce37065-480f-4730-96e8-0c6dc9d1b8eb",
   "metadata": {
    "jp-MarkdownHeadingCollapsed": true
   },
   "source": [
    "# Study over standardized setting of structured lattices (ML-KEM, ML-DSA and FN-DSA)"
   ]
  },
  {
   "cell_type": "code",
   "execution_count": 17,
   "id": "05ca110e-e0e0-46c5-83c4-1d2695516745",
   "metadata": {},
   "outputs": [],
   "source": [
    "list_q_values = [3329, 12289, 8380417]\n",
    "list_n_values = [256, 512, 1024]"
   ]
  },
  {
   "cell_type": "markdown",
   "id": "370a3ef7-4c19-4336-82cf-d5d74ed4ab0e",
   "metadata": {},
   "source": [
    "First, we have to select some values of (p, s, r) which are closest to the values of $n$ to study (with the additional restriction of surpassing $n$)."
   ]
  },
  {
   "cell_type": "code",
   "execution_count": null,
   "id": "dbc24827-a705-41db-b9a5-0c933f169f43",
   "metadata": {},
   "outputs": [],
   "source": [
    "def closest_factors(n):\n",
    "    primes = list(sympy.primerange(5, 2*n))\n",
    "    \n",
    "    best_r = 0\n",
    "    best_p = 0\n",
    "    best_s = 0\n",
    "    best_diff = float('inf')\n",
    "    \n",
    "    for p in primes:\n",
    "        s = 1\n",
    "        while True:\n",
    "            power_of_p = (p ** (s-1)) * ((p-1)//2) \n",
    "            if power_of_p - n > best_diff:\n",
    "                break\n",
    "    \n",
    "            r = 2\n",
    "            while 2 ** (r-1) * power_of_p - n <= best_diff:\n",
    "                diff = 2 ** (r-1) * power_of_p - n\n",
    "                if diff < best_diff and diff >= 0:\n",
    "                    best_r, best_p, best_s = r, p, s\n",
    "                    best_diff = diff\n",
    "                r += 1\n",
    "            s += 1\n",
    "    \n",
    "    return best_r, best_p, best_s\n",
    "\n",
    "def closest_factors_no_r(n):\n",
    "    primes = list(sympy.primerange(5, n + 1))\n",
    "    \n",
    "    best_r = 0\n",
    "    best_p = 0\n",
    "    best_s = 0\n",
    "    best_diff = float('inf')\n",
    "    \n",
    "    for p in primes:\n",
    "        s = 1\n",
    "        while True:\n",
    "            power_of_p = (p ** (s-1)) * ((p-1)//2) \n",
    "            if power_of_p - n > best_diff:\n",
    "                break\n",
    "    \n",
    "            diff = power_of_p - n\n",
    "            if diff < best_diff and diff >= 0:\n",
    "                best_p, best_s = p, s\n",
    "                best_diff = diff\n",
    "            s += 1\n",
    "    \n",
    "    return best_r, best_p, best_s"
   ]
  },
  {
   "cell_type": "code",
   "execution_count": null,
   "id": "9f3a081a-7c31-408f-85d1-89aced36c429",
   "metadata": {},
   "outputs": [],
   "source": [
    "# Example usage:\n",
    "n = 256\n",
    "r, p, s = closest_factors(n)\n",
    "print(f\"For n = {n}, the closest r, p, s are: r = {r}, p = {p}, s = {s}\")\n",
    "r, p, s = closest_factors_no_r(n)\n",
    "print(f\"For n = {n}, the closest p, s are: p = {p}, s = {s}\")"
   ]
  },
  {
   "cell_type": "code",
   "execution_count": null,
   "id": "7036409d-f0ac-4d6d-aa07-5e8082618277",
   "metadata": {},
   "outputs": [],
   "source": [
    "list_instances_n_setting = []\n",
    "for n in list_n_values:\n",
    "    r, p, s = closest_factors(n)\n",
    "    list_instances_n_setting.append((p, s, r))\n",
    "list_instances_n_setting"
   ]
  },
  {
   "cell_type": "markdown",
   "id": "5342d190-5d7d-4d90-9d48-3698d0f3c5ac",
   "metadata": {},
   "source": [
    "ML-KEM setting (n = 256, q = 3329)"
   ]
  },
  {
   "cell_type": "code",
   "execution_count": null,
   "id": "94890c50-cc19-49bb-a96b-7fa545c4b8d9",
   "metadata": {},
   "outputs": [],
   "source": [
    "pol = minimal_polynomial_case_psr(5, 1, 8, 3329)\n",
    "pol.factors()"
   ]
  },
  {
   "cell_type": "code",
   "execution_count": 19,
   "id": "77067d4e-0309-45ce-8b43-bf4a7b3af040",
   "metadata": {},
   "outputs": [
    {
     "data": {
      "text/plain": [
       "[(5, 1, 8, 3329, [], [(2, []), (3, []), (4, [])])]"
      ]
     },
     "execution_count": 19,
     "metadata": {},
     "output_type": "execute_result"
    }
   ],
   "source": [
    "list_info_min_pols_ml_kem = parallelized_task_min_pol_total_info([(5, 1, 8)], [3329])\n",
    "list_info_min_pols_ml_kem"
   ]
  },
  {
   "cell_type": "code",
   "execution_count": 20,
   "id": "a2581a0f-a8c1-43b6-b9c8-576761336f41",
   "metadata": {},
   "outputs": [
    {
     "data": {
      "text/plain": [
       "[]"
      ]
     },
     "execution_count": 20,
     "metadata": {},
     "output_type": "execute_result"
    }
   ],
   "source": [
    "list_info_small_roots_ml_kem = parallelized_task_small_roots(list_info_min_pols_ml_kem)\n",
    "list_info_small_roots_ml_kem"
   ]
  },
  {
   "cell_type": "code",
   "execution_count": 21,
   "id": "65366684-006d-400b-8f2a-014124c0a2b2",
   "metadata": {},
   "outputs": [
    {
     "data": {
      "text/plain": [
       "[(5, 1, 8, 3329, None, inf)]"
      ]
     },
     "execution_count": 21,
     "metadata": {},
     "output_type": "execute_result"
    }
   ],
   "source": [
    "list_info_smallest_roots_ml_kem = parallelized_task_smallest_root(list_info_min_pols_ml_kem)\n",
    "list_info_smallest_roots_ml_kem"
   ]
  },
  {
   "cell_type": "markdown",
   "id": "9ff56634-2d9d-4f51-8c7e-15825cf79646",
   "metadata": {},
   "source": [
    "Attack analysis over finite extensions of $\\mathbb{F}_q$"
   ]
  },
  {
   "cell_type": "code",
   "execution_count": 23,
   "id": "367d51ea-550e-46d0-94b3-b79e3664ff2a",
   "metadata": {},
   "outputs": [
    {
     "data": {
      "text/plain": [
       "[]"
      ]
     },
     "execution_count": 23,
     "metadata": {},
     "output_type": "execute_result"
    }
   ],
   "source": [
    "list_info_small_k_ideal_factors_ml_kem = parallelized_task_small_k_ideal_factors(list_info_min_pols_ml_kem)\n",
    "list_info_small_k_ideal_factors_ml_kem"
   ]
  },
  {
   "cell_type": "code",
   "execution_count": 24,
   "id": "0240854c-2587-4c09-9bcc-3094c09f46c4",
   "metadata": {},
   "outputs": [
    {
     "data": {
      "text/plain": [
       "[(5, 1, 8, 3329, None, inf, 2),\n",
       " (5, 1, 8, 3329, None, inf, 3),\n",
       " (5, 1, 8, 3329, None, inf, 4)]"
      ]
     },
     "execution_count": 24,
     "metadata": {},
     "output_type": "execute_result"
    }
   ],
   "source": [
    "list_info_smallest_k_ideal_factors_ml_kem = parallelized_task_smallest_k_ideal_factors(list_info_min_pols_ml_kem)\n",
    "list_info_smallest_k_ideal_factors_ml_kem"
   ]
  },
  {
   "cell_type": "code",
   "execution_count": 25,
   "id": "5f657096-5682-4784-8b31-09eca7a330e3",
   "metadata": {},
   "outputs": [
    {
     "data": {
      "text/plain": [
       "0.0"
      ]
     },
     "execution_count": 25,
     "metadata": {},
     "output_type": "execute_result"
    }
   ],
   "source": [
    "# Small Set Error rate on Standardized setting\n",
    "sigma = 2\n",
    "small_err_set_chances_ml_kem = parallelized_task_small_set_attack_chances(list_info_smallest_roots_ml_kem, sigma)\n",
    "small_err_set_attack_ratio(small_err_set_chances_ml_kem)"
   ]
  },
  {
   "cell_type": "code",
   "execution_count": 26,
   "id": "5664d66d-3fd7-45a4-9e76-6748e6cf0297",
   "metadata": {},
   "outputs": [
    {
     "data": {
      "text/plain": [
       "0.0"
      ]
     },
     "execution_count": 26,
     "metadata": {},
     "output_type": "execute_result"
    }
   ],
   "source": [
    "# Small Set Error rate on Standardized setting\n",
    "sigma = 2\n",
    "small_err_set_chances_ml_kem_k_ideals = parallelized_task_small_set_attack_chances_k_ideals(list_info_smallest_k_ideal_factors_ml_kem, sigma)\n",
    "small_err_set_attack_ratio(small_err_set_chances_ml_kem_k_ideals)"
   ]
  },
  {
   "cell_type": "code",
   "execution_count": 33,
   "id": "57eb0d14-3463-494f-89f8-4171277538b9",
   "metadata": {},
   "outputs": [
    {
     "data": {
      "text/plain": [
       "0.0"
      ]
     },
     "execution_count": 33,
     "metadata": {},
     "output_type": "execute_result"
    }
   ],
   "source": [
    "# Small Error Values rate on Standardized setting\n",
    "sigma = 2\n",
    "small_err_values_chances_ml_kem = parallelized_task_small_err_values_chances(list_info_smallest_roots_ml_kem, sigma)\n",
    "small_err_value_ratio(small_err_values_chances_ml_kem)"
   ]
  },
  {
   "cell_type": "code",
   "execution_count": 34,
   "id": "dfb64436-e9b4-423c-8c35-a6eb0f714f93",
   "metadata": {},
   "outputs": [
    {
     "data": {
      "text/plain": [
       "0.0"
      ]
     },
     "execution_count": 34,
     "metadata": {},
     "output_type": "execute_result"
    }
   ],
   "source": [
    "# Small Error Values rate on Standardized setting\n",
    "sigma = 2\n",
    "small_err_values_chances_ml_kem_k_ideals = parallelized_task_small_err_values_chances_k_ideals(list_info_smallest_k_ideal_factors_ml_kem, sigma)\n",
    "small_err_value_ratio(small_err_values_chances_ml_kem_k_ideals)"
   ]
  },
  {
   "cell_type": "markdown",
   "id": "5e095629-c3ea-40a8-a855-596819bdc1f1",
   "metadata": {},
   "source": [
    "Result: No applicable attack against both roots and finite field extensions for \"ML-KEM-like\" setting"
   ]
  },
  {
   "cell_type": "markdown",
   "id": "ca6b9542-1fc1-4c81-b3c0-d1200f0d2c34",
   "metadata": {},
   "source": [
    "ML-DSA setting (n = 256, q = 8380417)"
   ]
  },
  {
   "cell_type": "code",
   "execution_count": null,
   "id": "5e2bdfcd-aa12-480a-87ff-e88c9adffb55",
   "metadata": {},
   "outputs": [],
   "source": [
    "pol = minimal_polynomial_case_psr(5, 1, 8, 8380417)\n",
    "pol.factors()"
   ]
  },
  {
   "cell_type": "code",
   "execution_count": 36,
   "id": "7785119b-3b48-4c8e-89b7-25fc0d42aa1a",
   "metadata": {},
   "outputs": [
    {
     "data": {
      "text/plain": [
       "[(5, 1, 8, 8380417, [], [(2, []), (3, []), (4, [])])]"
      ]
     },
     "execution_count": 36,
     "metadata": {},
     "output_type": "execute_result"
    }
   ],
   "source": [
    "list_info_min_pols_ml_dsa = parallelized_task_min_pol_total_info([(5, 1, 8)], [8380417])\n",
    "list_info_min_pols_ml_dsa"
   ]
  },
  {
   "cell_type": "code",
   "execution_count": 37,
   "id": "05965ab9-6460-488a-82d2-cec2a02df243",
   "metadata": {},
   "outputs": [
    {
     "data": {
      "text/plain": [
       "[]"
      ]
     },
     "execution_count": 37,
     "metadata": {},
     "output_type": "execute_result"
    }
   ],
   "source": [
    "list_info_small_roots_ml_dsa = parallelized_task_small_roots(list_info_min_pols_ml_dsa)\n",
    "list_info_small_roots_ml_dsa"
   ]
  },
  {
   "cell_type": "code",
   "execution_count": 38,
   "id": "b3354550-180a-4a0f-935a-6e58cce7881d",
   "metadata": {},
   "outputs": [
    {
     "data": {
      "text/plain": [
       "[(5, 1, 8, 8380417, None, inf)]"
      ]
     },
     "execution_count": 38,
     "metadata": {},
     "output_type": "execute_result"
    }
   ],
   "source": [
    "list_info_smallest_roots_ml_dsa = parallelized_task_smallest_root(list_info_min_pols_ml_dsa)\n",
    "list_info_smallest_roots_ml_dsa"
   ]
  },
  {
   "cell_type": "code",
   "execution_count": 39,
   "id": "618dfaff-755c-44ad-811d-ceb42e3e948f",
   "metadata": {},
   "outputs": [
    {
     "data": {
      "text/plain": [
       "[]"
      ]
     },
     "execution_count": 39,
     "metadata": {},
     "output_type": "execute_result"
    }
   ],
   "source": [
    "list_info_small_k_ideal_factors_ml_dsa = parallelized_task_small_k_ideal_factors(list_info_min_pols_ml_dsa)\n",
    "list_info_small_k_ideal_factors_ml_dsa"
   ]
  },
  {
   "cell_type": "code",
   "execution_count": 40,
   "id": "9636832c-e3f1-422e-9066-97b31565e722",
   "metadata": {},
   "outputs": [
    {
     "data": {
      "text/plain": [
       "[(5, 1, 8, 8380417, None, inf, 2),\n",
       " (5, 1, 8, 8380417, None, inf, 3),\n",
       " (5, 1, 8, 8380417, None, inf, 4)]"
      ]
     },
     "execution_count": 40,
     "metadata": {},
     "output_type": "execute_result"
    }
   ],
   "source": [
    "list_info_smallest_k_ideal_factors_ml_dsa = parallelized_task_smallest_k_ideal_factors(list_info_min_pols_ml_dsa)\n",
    "list_info_smallest_k_ideal_factors_ml_dsa"
   ]
  },
  {
   "cell_type": "code",
   "execution_count": 41,
   "id": "80142250-6ee3-403a-aa2f-ecce1113829c",
   "metadata": {},
   "outputs": [
    {
     "data": {
      "text/plain": [
       "0.0"
      ]
     },
     "execution_count": 41,
     "metadata": {},
     "output_type": "execute_result"
    }
   ],
   "source": [
    "# Small Set Error rate on Standardized setting\n",
    "sigma = 2\n",
    "small_err_set_chances_ml_dsa_k_ideals = parallelized_task_small_set_attack_chances_k_ideals(list_info_smallest_k_ideal_factors_ml_dsa, sigma)\n",
    "small_err_set_attack_ratio(small_err_set_chances_ml_dsa_k_ideals)"
   ]
  },
  {
   "cell_type": "code",
   "execution_count": 42,
   "id": "e2c2e9e6-2d51-43f8-a026-cb81239da672",
   "metadata": {},
   "outputs": [
    {
     "data": {
      "text/plain": [
       "0.0"
      ]
     },
     "execution_count": 42,
     "metadata": {},
     "output_type": "execute_result"
    }
   ],
   "source": [
    "# Small Error Values rate on Standardized setting\n",
    "sigma = 2\n",
    "small_err_values_chances_ml_dsa_k_ideals = parallelized_task_small_err_values_chances_k_ideals(list_info_smallest_k_ideal_factors_ml_dsa, sigma)\n",
    "small_err_value_ratio(small_err_values_chances_ml_dsa_k_ideals)"
   ]
  },
  {
   "cell_type": "markdown",
   "id": "8841e0b5-7407-4853-a2f9-1fa9af98c659",
   "metadata": {},
   "source": [
    "Result: No applicable attack against both roots and finite field extensions for \"ML-DSA-like\" setting"
   ]
  },
  {
   "cell_type": "markdown",
   "id": "b5bc7a21-9b19-4388-afc2-d7fadfbe88f1",
   "metadata": {},
   "source": [
    "FN-DSA setting (n = 512, 1024, q = 12289)"
   ]
  },
  {
   "cell_type": "code",
   "execution_count": null,
   "id": "6622ba46-5578-44fc-b1b8-9e574de3cdd5",
   "metadata": {},
   "outputs": [],
   "source": [
    "pol = minimal_polynomial_case_psr(5, 1, 9, 12289)\n",
    "pol.factors()"
   ]
  },
  {
   "cell_type": "code",
   "execution_count": 44,
   "id": "090897d0-6ef3-4709-91cb-071a338d3ad8",
   "metadata": {},
   "outputs": [
    {
     "data": {
      "text/plain": [
       "[(5, 1, 9, 12289, [], [(2, []), (3, []), (4, [])]),\n",
       " (5, 1, 10, 12289, [], [(2, []), (3, []), (4, [])])]"
      ]
     },
     "execution_count": 44,
     "metadata": {},
     "output_type": "execute_result"
    }
   ],
   "source": [
    "list_info_min_pols_fn_dsa = parallelized_task_min_pol_total_info([(5, 1, 9), (5, 1, 10)], [12289])\n",
    "list_info_min_pols_fn_dsa"
   ]
  },
  {
   "cell_type": "code",
   "execution_count": 45,
   "id": "2be778d4-a3a7-4595-a526-3329a95abc1e",
   "metadata": {},
   "outputs": [
    {
     "data": {
      "text/plain": [
       "[]"
      ]
     },
     "execution_count": 45,
     "metadata": {},
     "output_type": "execute_result"
    }
   ],
   "source": [
    "list_info_small_roots_fn_dsa = parallelized_task_small_roots(list_info_min_pols_fn_dsa)\n",
    "list_info_small_roots_fn_dsa"
   ]
  },
  {
   "cell_type": "code",
   "execution_count": 46,
   "id": "25b138be-1095-4b38-b6a4-e0bf0b351168",
   "metadata": {},
   "outputs": [
    {
     "data": {
      "text/plain": [
       "[(5, 1, 9, 12289, None, inf), (5, 1, 10, 12289, None, inf)]"
      ]
     },
     "execution_count": 46,
     "metadata": {},
     "output_type": "execute_result"
    }
   ],
   "source": [
    "list_info_smallest_roots_fn_dsa = parallelized_task_smallest_root(list_info_min_pols_fn_dsa)\n",
    "list_info_smallest_roots_fn_dsa"
   ]
  },
  {
   "cell_type": "code",
   "execution_count": 47,
   "id": "1d6ab716-9aa3-4459-bce3-50490dbafaca",
   "metadata": {},
   "outputs": [
    {
     "data": {
      "text/plain": [
       "[]"
      ]
     },
     "execution_count": 47,
     "metadata": {},
     "output_type": "execute_result"
    }
   ],
   "source": [
    "list_info_small_k_ideal_factors_fn_dsa = parallelized_task_small_k_ideal_factors(list_info_min_pols_fn_dsa)\n",
    "list_info_small_k_ideal_factors_fn_dsa"
   ]
  },
  {
   "cell_type": "code",
   "execution_count": 48,
   "id": "275a02fb-9818-4d80-bdde-1048b91e67ce",
   "metadata": {},
   "outputs": [
    {
     "data": {
      "text/plain": [
       "[(5, 1, 9, 12289, None, inf, 2),\n",
       " (5, 1, 9, 12289, None, inf, 3),\n",
       " (5, 1, 9, 12289, None, inf, 4),\n",
       " (5, 1, 10, 12289, None, inf, 2),\n",
       " (5, 1, 10, 12289, None, inf, 3),\n",
       " (5, 1, 10, 12289, None, inf, 4)]"
      ]
     },
     "execution_count": 48,
     "metadata": {},
     "output_type": "execute_result"
    }
   ],
   "source": [
    "list_info_smallest_k_ideal_factors_fn_dsa = parallelized_task_smallest_k_ideal_factors(list_info_min_pols_fn_dsa)\n",
    "list_info_smallest_k_ideal_factors_fn_dsa"
   ]
  },
  {
   "cell_type": "code",
   "execution_count": 49,
   "id": "76b0186b-3d2a-4372-9e96-8917859b4f54",
   "metadata": {},
   "outputs": [
    {
     "data": {
      "text/plain": [
       "0.0"
      ]
     },
     "execution_count": 49,
     "metadata": {},
     "output_type": "execute_result"
    }
   ],
   "source": [
    "# Small Set Error rate on Standardized setting\n",
    "sigma = 2\n",
    "small_err_set_chances_fn_dsa = parallelized_task_small_set_attack_chances(list_info_smallest_roots_fn_dsa, sigma)\n",
    "small_err_set_attack_ratio(small_err_set_chances_fn_dsa)"
   ]
  },
  {
   "cell_type": "code",
   "execution_count": 50,
   "id": "7375c6b3-e1c4-4af6-9145-18e9824ad9ed",
   "metadata": {},
   "outputs": [
    {
     "data": {
      "text/plain": [
       "0.0"
      ]
     },
     "execution_count": 50,
     "metadata": {},
     "output_type": "execute_result"
    }
   ],
   "source": [
    "# Small Error Values rate on Standardized setting\n",
    "sigma = 2\n",
    "small_err_values_chances_fn_dsa = parallelized_task_small_err_values_chances(list_info_smallest_roots_fn_dsa, sigma)\n",
    "small_err_value_ratio(small_err_values_chances_fn_dsa)"
   ]
  },
  {
   "cell_type": "markdown",
   "id": "0e6470e9-6c2f-42fd-9455-7d49da11d6db",
   "metadata": {},
   "source": [
    "Result: No applicable attack against both roots and finite field extensions for \"FN-DSA-like\" setting"
   ]
  },
  {
   "cell_type": "markdown",
   "id": "9c8d4e3a-0772-43fb-af44-990cdcc6b4e7",
   "metadata": {},
   "source": [
    "# General study of random instances ($n \\in [256, 512]$, $q \\in (2048, 4096)$)"
   ]
  },
  {
   "cell_type": "markdown",
   "id": "c5d529b1-c864-4cef-9d58-18c89a49da4e",
   "metadata": {},
   "source": [
    "Now we analyze how random instances, in general, can be affected by these kind of attacks."
   ]
  },
  {
   "cell_type": "code",
   "execution_count": 16,
   "id": "603b95fa-584c-494c-a462-70316beea5e0",
   "metadata": {},
   "outputs": [],
   "source": [
    "bottom_n = 256\n",
    "top_n = 512\n",
    "\n",
    "bottom_q = 2048\n",
    "top_q = 4096\n",
    "\n",
    "number_q = 150\n",
    "\n",
    "bottom_sigma = 2\n",
    "top_sigma = 8"
   ]
  },
  {
   "cell_type": "code",
   "execution_count": 24,
   "id": "1626dafb-9c34-4158-a477-84be11a64b8e",
   "metadata": {},
   "outputs": [
    {
     "name": "stdout",
     "output_type": "stream",
     "text": [
      "We get 24 combinations which yield a polynomial of degree in [256, 512]\n"
     ]
    }
   ],
   "source": [
    "list_p_values = list(sympy.primerange(5, 50))\n",
    "list_s_values = [1, 2, 3]\n",
    "list_r_values = [2, 3, 4, 5, 6, 7, 8, 9]\n",
    "\n",
    "list_instances_n_setting = []\n",
    "for r in list_r_values:\n",
    "  for s in list_s_values:\n",
    "    for p in list_p_values:\n",
    "      n = (p**(s-1))*(2**(r-2))*(p-1)\n",
    "      if bottom_n <= n <= top_n:\n",
    "        list_instances_n_setting.append((p, s, r))\n",
    "print(f'We get {len(list_instances_n_setting)} combinations which yield a polynomial of degree in [{bottom_n}, {top_n}]')"
   ]
  },
  {
   "cell_type": "code",
   "execution_count": 26,
   "id": "503066d5-3dd2-4855-909c-32b883b0be45",
   "metadata": {},
   "outputs": [
    {
     "name": "stdout",
     "output_type": "stream",
     "text": [
      "We get 150 prime modulus\n"
     ]
    }
   ],
   "source": [
    "list_q_values = list(sympy.primerange(bottom_q, top_q))\n",
    "list_q_values = random.sample(list_q_values, number_q)\n",
    "save_data(list_q_values, 'randomModulos_data')\n",
    "print(f'We get {len(list_q_values)} prime modulus')"
   ]
  },
  {
   "cell_type": "code",
   "execution_count": null,
   "id": "3e2ea8f1-aaab-44c8-8751-f3d78c2bf391",
   "metadata": {},
   "outputs": [],
   "source": [
    "list_info_min_pols_generic = parallelized_task_min_pol_total_info(list_instances_n_setting, list_q_values)\n",
    "save_data(list_info_min_pols_generic, 'randomInstances_PLWEMaxReal')"
   ]
  },
  {
   "cell_type": "code",
   "execution_count": 17,
   "id": "05fc91f8-c9a9-48ad-ab93-afd889a2695e",
   "metadata": {},
   "outputs": [],
   "source": [
    "list_info_min_pols_generic = load_data('randomInstances_PLWEMaxReal')"
   ]
  },
  {
   "cell_type": "code",
   "execution_count": 18,
   "id": "3697ad85-284d-4649-9ca5-5546d9957744",
   "metadata": {},
   "outputs": [
    {
     "data": {
      "text/plain": [
       "[(43, 2, 0, 3697, 519, 3),\n",
       " (43, 2, 0, 3697, 1131, 4),\n",
       " (43, 2, 0, 3697, 3177, 3),\n",
       " (19, 2, 2, 2887, 698, 3),\n",
       " (5, 3, 4, 4001, 899, 4),\n",
       " (5, 3, 4, 4001, 3102, 4)]"
      ]
     },
     "execution_count": 18,
     "metadata": {},
     "output_type": "execute_result"
    }
   ],
   "source": [
    "list_info_small_roots_generic = parallelized_task_small_roots(list_info_min_pols_generic)\n",
    "list_info_small_roots_generic"
   ]
  },
  {
   "cell_type": "code",
   "execution_count": null,
   "id": "9d1a0fd3-f3e5-4155-ac62-b0610961e9ca",
   "metadata": {},
   "outputs": [],
   "source": [
    "list_info_smallest_roots_generic = parallelized_task_smallest_root(list_info_min_pols_generic)\n",
    "list_info_smallest_roots_generic"
   ]
  },
  {
   "cell_type": "code",
   "execution_count": 20,
   "id": "9dcc76ef-78d9-4c05-9b73-a6aa06629bac",
   "metadata": {},
   "outputs": [
    {
     "data": {
      "text/plain": [
       "[(7, 1, 8, 2687, 2686, 2, 2)]"
      ]
     },
     "execution_count": 20,
     "metadata": {},
     "output_type": "execute_result"
    }
   ],
   "source": [
    "list_info_small_k_ideals_generic = parallelized_task_small_k_ideal_factors(list_info_min_pols_generic)\n",
    "list_info_small_k_ideals_generic"
   ]
  },
  {
   "cell_type": "code",
   "execution_count": null,
   "id": "a9ed09a8-a514-4d1d-96fd-536074347a42",
   "metadata": {},
   "outputs": [],
   "source": [
    "list_info_smallest_k_ideals_generic = parallelized_task_smallest_k_ideal_factors(list_info_min_pols_generic)\n",
    "list_info_smallest_k_ideals_generic"
   ]
  },
  {
   "cell_type": "code",
   "execution_count": 63,
   "id": "96cd3cc5-86fb-49cb-8cf1-86675c395dfc",
   "metadata": {},
   "outputs": [
    {
     "name": "stdout",
     "output_type": "stream",
     "text": [
      "We get 6 standard deviation values for the associated discrete Gaussian distribution\n"
     ]
    }
   ],
   "source": [
    "list_sigma_values = list(range(bottom_sigma, top_sigma))\n",
    "print(f'We get {len(list_sigma_values)} standard deviation values for the associated discrete Gaussian distribution')"
   ]
  },
  {
   "cell_type": "code",
   "execution_count": 97,
   "id": "b8e3c31e-1307-4586-bc8c-9d4f5be015cb",
   "metadata": {},
   "outputs": [
    {
     "data": {
      "text/plain": [
       "[0.0, 0.0, 0.0, 0.0, 0.0, 0.0]"
      ]
     },
     "execution_count": 97,
     "metadata": {},
     "output_type": "execute_result"
    }
   ],
   "source": [
    "list_sigma_ssa = []\n",
    "for sigma in list_sigma_values:\n",
    "    small_err_set_chances = parallelized_task_small_set_attack_chances(list_info_smallest_roots_generic, sigma)\n",
    "    list_sigma_ssa.append(small_err_set_attack_ratio(small_err_set_chances))\n",
    "list_sigma_ssa"
   ]
  },
  {
   "cell_type": "code",
   "execution_count": 96,
   "id": "0d653b50-67fa-4678-aa34-7fe34048f561",
   "metadata": {},
   "outputs": [
    {
     "data": {
      "text/plain": [
       "[0.0, 0.0, 0.0, 0.0, 0.0, 0.0]"
      ]
     },
     "execution_count": 96,
     "metadata": {},
     "output_type": "execute_result"
    }
   ],
   "source": [
    "list_sigma_sva = []\n",
    "for sigma in list_sigma_values:\n",
    "    small_err_values_chances = parallelized_task_small_err_values_chances(list_info_smallest_roots_generic, sigma)\n",
    "    list_sigma_sva.append(small_err_value_ratio(small_err_values_chances))\n",
    "list_sigma_sva"
   ]
  },
  {
   "cell_type": "code",
   "execution_count": 95,
   "id": "6edf0043-c1e9-44bb-b867-e80e488af21d",
   "metadata": {},
   "outputs": [
    {
     "data": {
      "text/plain": [
       "[0.0, 0.0, 0.0, 0.0, 0.0, 0.0]"
      ]
     },
     "execution_count": 95,
     "metadata": {},
     "output_type": "execute_result"
    }
   ],
   "source": [
    "list_sigma_ssa_k_ideals = []\n",
    "for sigma in list_sigma_values:\n",
    "    small_err_set_chances_k_ideals = parallelized_task_small_set_attack_chances_k_ideals(list_info_smallest_k_ideals_generic, sigma)\n",
    "    list_sigma_ssa_k_ideals.append(small_err_set_attack_ratio(small_err_set_chances_k_ideals))\n",
    "list_sigma_ssa_k_ideals"
   ]
  },
  {
   "cell_type": "code",
   "execution_count": 94,
   "id": "c4279c60-1d37-4c33-bae6-a8083fae6ad5",
   "metadata": {},
   "outputs": [
    {
     "data": {
      "text/plain": [
       "[0.00017094017094017094,\n",
       " 0.0,\n",
       " 0.00017094017094017094,\n",
       " 0.0,\n",
       " 0.0,\n",
       " 0.00017094017094017094]"
      ]
     },
     "execution_count": 94,
     "metadata": {},
     "output_type": "execute_result"
    }
   ],
   "source": [
    "list_sigma_sva_k_ideals = []\n",
    "for sigma in list_sigma_values:\n",
    "    small_err_values_chances_k_ideals = parallelized_task_small_err_values_chances_k_ideals(list_info_smallest_k_ideals_generic, sigma)\n",
    "    list_sigma_sva_k_ideals.append(small_err_value_ratio(small_err_values_chances_k_ideals))\n",
    "list_sigma_sva_k_ideals"
   ]
  },
  {
   "cell_type": "markdown",
   "id": "6d9f6f02-7c2e-40cb-a9be-622a16699c3d",
   "metadata": {},
   "source": [
    "# Comparison with cyclotomic polynomials over the same setting"
   ]
  },
  {
   "cell_type": "markdown",
   "id": "e5a835fc-3593-4055-b902-b6715282f270",
   "metadata": {},
   "source": [
    "We need to construct cyclotomic polynomials and carry out the evaluation under the same settings. This means, same finite field, but also polynomials of the same degree (to avoid alterning the number of possible vulnerable elements to be compared)"
   ]
  },
  {
   "cell_type": "code",
   "execution_count": 31,
   "id": "5995acd9-e6d5-4f37-a59b-823efe8320a9",
   "metadata": {},
   "outputs": [],
   "source": [
    "list_info_min_pols_generic_cyclotomic = parallelized_task_min_pol_total_info_cyclotomic(list_instances_n_setting, list_q_values)\n",
    "save_data(list_info_min_pols_generic_cyclotomic, 'randomInstances_PLWECyclotomic')"
   ]
  },
  {
   "cell_type": "code",
   "execution_count": 22,
   "id": "ad995d4c-80b5-44bd-b505-b58cc835ec47",
   "metadata": {},
   "outputs": [],
   "source": [
    "list_info_min_pols_generic_cyclotomic = load_data('randomInstances_PLWECyclotomic')"
   ]
  },
  {
   "cell_type": "code",
   "execution_count": 23,
   "id": "15d6cd17-a632-44df-a9b1-7944f44077e0",
   "metadata": {},
   "outputs": [
    {
     "data": {
      "text/plain": [
       "[]"
      ]
     },
     "execution_count": 23,
     "metadata": {},
     "output_type": "execute_result"
    }
   ],
   "source": [
    "list_info_small_roots_generic_cyclotomic = parallelized_task_small_roots(list_info_min_pols_generic_cyclotomic)\n",
    "list_info_small_roots_generic_cyclotomic"
   ]
  },
  {
   "cell_type": "code",
   "execution_count": null,
   "id": "fca2ad57-3ae3-4f8c-8664-b6137763746b",
   "metadata": {},
   "outputs": [],
   "source": [
    "list_info_smallest_roots_generic_cyclotomic = parallelized_task_smallest_root(list_info_min_pols_generic_cyclotomic)\n",
    "list_info_smallest_roots_generic_cyclotomic"
   ]
  },
  {
   "cell_type": "markdown",
   "id": "a9af97f7-b44d-4cb2-9e38-7d30e8fe334c",
   "metadata": {},
   "source": [
    "How many 1-degree factorization are present?"
   ]
  },
  {
   "cell_type": "code",
   "execution_count": 72,
   "id": "daae9d5d-50de-4570-b38f-104abbeb586a",
   "metadata": {},
   "outputs": [
    {
     "data": {
      "text/plain": [
       "[(17, 2, 2, 3469, 11, 578),\n",
       " (13, 2, 3, 4057, 53, 676),\n",
       " (13, 1, 7, 3329, 4, 832)]"
      ]
     },
     "execution_count": 72,
     "metadata": {},
     "output_type": "execute_result"
    }
   ],
   "source": [
    "[(p, s, r, q, elem, order) for (p, s, r, q, elem, order) in list_info_smallest_roots_generic_cyclotomic if elem != None]"
   ]
  },
  {
   "cell_type": "code",
   "execution_count": 60,
   "id": "d110d5c8-6d30-4518-9f42-60341d3a5b41",
   "metadata": {},
   "outputs": [
    {
     "data": {
      "text/plain": [
       "[]"
      ]
     },
     "execution_count": 60,
     "metadata": {},
     "output_type": "execute_result"
    }
   ],
   "source": [
    "list_info_small_k_ideals_generic_cyclotomic = parallelized_task_small_k_ideal_factors(list_info_min_pols_generic_cyclotomic)\n",
    "list_info_small_k_ideals_generic_cyclotomic"
   ]
  },
  {
   "cell_type": "code",
   "execution_count": null,
   "id": "9b9b6589-f540-4411-94b4-598e8c903686",
   "metadata": {},
   "outputs": [],
   "source": [
    "list_info_smallest_k_ideals_generic_cyclotomic = parallelized_task_smallest_k_ideal_factors(list_info_min_pols_generic_cyclotomic)\n",
    "list_info_smallest_k_ideals_generic_cyclotomic"
   ]
  },
  {
   "cell_type": "markdown",
   "id": "e1e1d81f-9fad-42fa-9d29-830dc19ee679",
   "metadata": {},
   "source": [
    "How many k-degree factorization are present?"
   ]
  },
  {
   "cell_type": "code",
   "execution_count": 74,
   "id": "2bf2d41e-60db-4d2f-925d-a0b39ca43c0d",
   "metadata": {},
   "outputs": [
    {
     "data": {
      "text/plain": [
       "[(11, 2, 4, 3389, 3387, 484, 2),\n",
       " (37, 1, 5, 3257, 3252, 296, 2),\n",
       " (37, 1, 5, 3701, 3675, 148, 4),\n",
       " (41, 1, 5, 2789, 2778, 164, 4),\n",
       " (41, 1, 5, 2953, 2948, 328, 2),\n",
       " (41, 1, 5, 2297, 2294, 328, 2),\n",
       " (43, 1, 5, 3613, 3578, 172, 4),\n",
       " (43, 1, 5, 2237, 2220, 172, 4),\n",
       " (47, 1, 5, 2069, 2048, 188, 4),\n",
       " (47, 1, 5, 2633, 2621, 376, 2),\n",
       " (7, 2, 5, 3529, 3506, 392, 2),\n",
       " (17, 1, 6, 3673, 3653, 136, 4),\n",
       " (19, 1, 6, 2129, 2071, 304, 2),\n",
       " (19, 1, 6, 2281, 2268, 152, 4),\n",
       " (23, 1, 6, 2393, 2383, 184, 4),\n",
       " (23, 1, 6, 3313, 3260, 368, 2),\n",
       " (23, 1, 6, 4049, 4037, 368, 2),\n",
       " (29, 1, 6, 2089, 2068, 232, 4),\n",
       " (31, 1, 6, 2729, 2717, 248, 4),\n",
       " (5, 2, 6, 2801, 2775, 400, 2),\n",
       " (11, 1, 7, 3169, 3148, 352, 2),\n",
       " (11, 1, 7, 4049, 4036, 176, 4),\n",
       " (13, 1, 7, 3121, 3092, 208, 4),\n",
       " (5, 1, 8, 3361, 3344, 160, 4),\n",
       " (7, 1, 8, 3361, 3328, 224, 4)]"
      ]
     },
     "execution_count": 74,
     "metadata": {},
     "output_type": "execute_result"
    }
   ],
   "source": [
    "[(p, s, r, q, elem, order, k) for (p, s, r, q, elem, order, k) in list_info_smallest_k_ideals_generic_cyclotomic if elem != None]"
   ]
  },
  {
   "cell_type": "markdown",
   "id": "df7c725a-f6fd-44e5-ac94-c1f22186a575",
   "metadata": {},
   "source": [
    "Associated data..."
   ]
  },
  {
   "cell_type": "code",
   "execution_count": 64,
   "id": "6b3ccd7e-b710-4d35-b997-9beb32620224",
   "metadata": {},
   "outputs": [
    {
     "data": {
      "text/plain": [
       "[0.0, 0.0, 0.0, 0.0, 0.0, 0.0]"
      ]
     },
     "execution_count": 64,
     "metadata": {},
     "output_type": "execute_result"
    }
   ],
   "source": [
    "list_sigma_ssa_cyclotomic = []\n",
    "for sigma in list_sigma_values:\n",
    "    small_err_set_chances_cyclotomic = parallelized_task_small_set_attack_chances(list_info_smallest_roots_generic_cyclotomic, sigma)\n",
    "    list_sigma_ssa_cyclotomic.append(small_err_set_attack_ratio(small_err_set_chances_cyclotomic))\n",
    "list_sigma_ssa_cyclotomic"
   ]
  },
  {
   "cell_type": "code",
   "execution_count": 67,
   "id": "c257c59e-4f4e-4d6c-87ec-fd2dd781179e",
   "metadata": {},
   "outputs": [
    {
     "data": {
      "text/plain": [
       "[0.0, 0.0, 0.0, 0.0, 0.0, 0.0]"
      ]
     },
     "execution_count": 67,
     "metadata": {},
     "output_type": "execute_result"
    }
   ],
   "source": [
    "list_sigma_sva_cyclotomic = []\n",
    "for sigma in list_sigma_values:\n",
    "    small_err_values_chances_cyclotomic = parallelized_task_small_err_values_chances(list_info_smallest_roots_generic_cyclotomic, sigma)\n",
    "    list_sigma_sva_cyclotomic.append(small_err_value_ratio(small_err_values_chances_cyclotomic))\n",
    "list_sigma_sva_cyclotomic"
   ]
  },
  {
   "cell_type": "code",
   "execution_count": 68,
   "id": "2f67e51b-c756-4c24-8fc5-5b3e10d42f7e",
   "metadata": {},
   "outputs": [
    {
     "data": {
      "text/plain": [
       "[0.0, 0.0, 0.0, 0.0, 0.0, 0.0]"
      ]
     },
     "execution_count": 68,
     "metadata": {},
     "output_type": "execute_result"
    }
   ],
   "source": [
    "list_sigma_ssa_k_ideals_cyclotomic = []\n",
    "for sigma in list_sigma_values:\n",
    "    small_err_set_chances_k_ideals_cyclotomic = parallelized_task_small_set_attack_chances_k_ideals(list_info_smallest_k_ideals_generic_cyclotomic, sigma)\n",
    "    list_sigma_ssa_k_ideals_cyclotomic.append(small_err_set_attack_ratio(small_err_set_chances_k_ideals_cyclotomic))\n",
    "list_sigma_ssa_k_ideals_cyclotomic"
   ]
  },
  {
   "cell_type": "code",
   "execution_count": 69,
   "id": "cfcec592-7957-4d24-9d4f-61afd5cd07be",
   "metadata": {},
   "outputs": [
    {
     "data": {
      "text/plain": [
       "[0.0, 0.0, 0.0, 0.0, 0.0, 0.0]"
      ]
     },
     "execution_count": 69,
     "metadata": {},
     "output_type": "execute_result"
    }
   ],
   "source": [
    "list_sigma_sva_k_ideals_cyclotomic = []\n",
    "for sigma in list_sigma_values:\n",
    "    small_err_values_chances_k_ideals_cyclotomic = parallelized_task_small_err_values_chances_k_ideals(list_info_smallest_k_ideals_generic_cyclotomic, sigma)\n",
    "    list_sigma_sva_k_ideals_cyclotomic.append(small_err_value_ratio(small_err_values_chances_k_ideals_cyclotomic))\n",
    "list_sigma_sva_k_ideals_cyclotomic"
   ]
  },
  {
   "cell_type": "markdown",
   "id": "1556dc33-43a2-46c2-b4eb-fc3828279cd3",
   "metadata": {},
   "source": [
    "# Graph analysis"
   ]
  },
  {
   "cell_type": "markdown",
   "id": "93b8f67a-eed9-40a5-9c54-e90531ad5696",
   "metadata": {},
   "source": [
    "Maximal real extension small roots graph"
   ]
  },
  {
   "cell_type": "code",
   "execution_count": 46,
   "id": "e3f5dc2a-dbba-4c26-9698-0cf412378dfd",
   "metadata": {},
   "outputs": [],
   "source": [
    "from collections import defaultdict\n",
    "\n",
    "def group_combinations(input_list):\n",
    "    grouped = defaultdict(list)\n",
    "    \n",
    "    # Group tuples by (a, b, c, d) and store combinations (e, f)\n",
    "    for (a, b, c, d, e, f) in input_list:\n",
    "        grouped[(a, b, c, d)].append((e, f))\n",
    "    \n",
    "    # Create the result list as described\n",
    "    result = [(key[0], key[1], key[2], key[3], value) for key, value in grouped.items()]\n",
    "    \n",
    "    return result"
   ]
  },
  {
   "cell_type": "code",
   "execution_count": 47,
   "id": "cd2a17d3-ef74-40dd-8007-f1d13b5a9b93",
   "metadata": {},
   "outputs": [
    {
     "data": {
      "image/png": "[encoded data removed]",
      "text/plain": [
       "<Figure size 1500x1000 with 2 Axes>"
      ]
     },
     "metadata": {},
     "output_type": "display_data"
    }
   ],
   "source": [
    "# Create lists to hold x, y coordinates and colors for scatter plot\n",
    "x_vals = []\n",
    "y_vals = []\n",
    "colors = []\n",
    "\n",
    "# Generate random data for number of small-order roots\n",
    "grouped_info = group_combinations(list_info_small_roots_generic)\n",
    "for (p, s, r, q, info_list) in grouped_info:\n",
    "    if r == 0:\n",
    "        continue\n",
    "    degree = (p**(s-1))*(2**(r-2))*(p-1)\n",
    "    x_vals.append(degree)\n",
    "    y_vals.append(q)\n",
    "    colors.append(len(info_list))\n",
    "\n",
    "\n",
    "# Convert lists to numpy arrays for easier plotting\n",
    "x_vals = np.array(x_vals)\n",
    "y_vals = np.array(y_vals)\n",
    "colors = np.array(colors)\n",
    "\n",
    "# Plotting\n",
    "plt.figure(figsize=(15, 10))\n",
    "\n",
    "# Create scatter plot where circles are drawn for each intersection with non-zero roots\n",
    "scatter = plt.scatter(x_vals, y_vals, c=colors, cmap='YlOrRd', edgecolors='black', s=50, marker='o')\n",
    "\n",
    "# Color bar to represent the number of small-order roots\n",
    "plt.colorbar(scatter, label='Number of Small-order Roots')\n",
    "\n",
    "# Set labels and title\n",
    "plt.xlabel('Polynomial Degree')\n",
    "plt.ylabel('Finite Field Size (q)')\n",
    "plt.title('Small-order Roots for Polynomial Degrees and Finite Fields')\n",
    "\n",
    "# Adjust the axes' limits to make the plot more readable\n",
    "plt.xlim(bottom_n, top_n)\n",
    "plt.ylim(bottom_q, top_q)\n",
    "\n",
    "# Add gridlines for visual clarity\n",
    "plt.grid(True, which='both', axis='both', color='gray', linestyle='--', linewidth=0.5)\n",
    "\n",
    "# Show the plot\n",
    "plt.show()\n"
   ]
  }
 ],
 "metadata": {
  "kernelspec": {
   "display_name": "Python 3 (ipykernel)",
   "language": "python",
   "name": "python3"
  },
  "language_info": {
   "codemirror_mode": {
    "name": "ipython",
    "version": 3
   },
   "file_extension": ".py",
   "mimetype": "text/x-python",
   "name": "python",
   "nbconvert_exporter": "python",
   "pygments_lexer": "ipython3",
   "version": "3.11.1"
  }
 },
 "nbformat": 4,
 "nbformat_minor": 5
}
